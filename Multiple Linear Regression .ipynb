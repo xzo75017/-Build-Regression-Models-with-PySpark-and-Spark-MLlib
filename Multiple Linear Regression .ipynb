{
 "cells": [
  {
   "cell_type": "markdown",
   "id": "89856642",
   "metadata": {},
   "source": [
    "<h1> Install pyspark Library </h1>"
   ]
  },
  {
   "cell_type": "code",
   "execution_count": 1,
   "id": "e60a14aa",
   "metadata": {},
   "outputs": [
    {
     "name": "stdout",
     "output_type": "stream",
     "text": [
      "Requirement already satisfied: pyspark in c:\\users\\user\\anaconda3\\lib\\site-packages (3.3.0)\n",
      "Requirement already satisfied: py4j==0.10.9.5 in c:\\users\\user\\anaconda3\\lib\\site-packages (from pyspark) (0.10.9.5)\n"
     ]
    }
   ],
   "source": [
    "!pip install pyspark "
   ]
  },
  {
   "cell_type": "code",
   "execution_count": 2,
   "id": "bcd9cf0b",
   "metadata": {},
   "outputs": [],
   "source": [
    "#import pyspark library\n",
    "import pyspark "
   ]
  },
  {
   "cell_type": "code",
   "execution_count": 3,
   "id": "01d75002",
   "metadata": {},
   "outputs": [],
   "source": [
    "#import spark session library \n",
    "from pyspark.sql import SparkSession "
   ]
  },
  {
   "cell_type": "code",
   "execution_count": 4,
   "id": "9fa17e16",
   "metadata": {},
   "outputs": [],
   "source": [
    "#Create SparkSession object\n",
    "spark = SparkSession.builder \\\n",
    "            .master('local[*]') \\\n",
    "            .appName('multi_regression') \\\n",
    "            .getOrCreate()"
   ]
  },
  {
   "cell_type": "markdown",
   "id": "41409ee9",
   "metadata": {},
   "source": [
    "<h1> Create DataFrame </h1>"
   ]
  },
  {
   "cell_type": "code",
   "execution_count": 5,
   "id": "7a1d4670",
   "metadata": {},
   "outputs": [],
   "source": [
    "#To create dataframe form external datasets\n",
    "df = spark.read.option(\"header\",\"true\").csv(r\"C:\\Users\\User\\Downloads\\partitions\\Data\\*\")"
   ]
  },
  {
   "cell_type": "code",
   "execution_count": 6,
   "id": "096dcd01",
   "metadata": {},
   "outputs": [
    {
     "name": "stdout",
     "output_type": "stream",
     "text": [
      "+----+-------+-----+----------+---------+----------+-------------+---------+-------+-------+---------+---------------+------------------+------------------+------+--------------+-----------+---------------+---------------+---------+-------------+----------------+----------------+----+---------------+---------+-------------+-------------+-------+----------+-------+--------+---------------+--------+--------------------+----------+-------+---------+--------+------+----------+-------+--------+---------------+--------+------------------+----------+---------+----------------+--------+--------------+-----------------+-------+-------+--------+-------------+------------+------------+--------+-------------+-----------------+------------+-------------+---------------+------------------+--------------+--------------------+-----------+-----------+-----------+-------------+----------------+------------+--------------+----------------+-------------+-----------+-----------+-------------+----------------+------------+--------------+----------------+-------------+-----------+-----------+-------------+----------------+------------+--------------+----------------+-------------+-----------+-----------+-------------+----------------+------------+--------------+----------------+-------------+-----------+-----------+-------------+----------------+------------+--------------+----------------+-------------+-----------+-----+\n",
      "|Year|Quarter|Month|DayofMonth|DayOfWeek|FlightDate|UniqueCarrier|AirlineID|Carrier|TailNum|FlightNum|OriginAirportID|OriginAirportSeqID|OriginCityMarketID|Origin|OriginCityName|OriginState|OriginStateFips|OriginStateName|OriginWac|DestAirportID|DestAirportSeqID|DestCityMarketID|Dest|   DestCityName|DestState|DestStateFips|DestStateName|DestWac|CRSDepTime|DepTime|DepDelay|DepDelayMinutes|DepDel15|DepartureDelayGroups|DepTimeBlk|TaxiOut|WheelsOff|WheelsOn|TaxiIn|CRSArrTime|ArrTime|ArrDelay|ArrDelayMinutes|ArrDel15|ArrivalDelayGroups|ArrTimeBlk|Cancelled|CancellationCode|Diverted|CRSElapsedTime|ActualElapsedTime|AirTime|Flights|Distance|DistanceGroup|CarrierDelay|WeatherDelay|NASDelay|SecurityDelay|LateAircraftDelay|FirstDepTime|TotalAddGTime|LongestAddGTime|DivAirportLandings|DivReachedDest|DivActualElapsedTime|DivArrDelay|DivDistance|Div1Airport|Div1AirportID|Div1AirportSeqID|Div1WheelsOn|Div1TotalGTime|Div1LongestGTime|Div1WheelsOff|Div1TailNum|Div2Airport|Div2AirportID|Div2AirportSeqID|Div2WheelsOn|Div2TotalGTime|Div2LongestGTime|Div2WheelsOff|Div2TailNum|Div3Airport|Div3AirportID|Div3AirportSeqID|Div3WheelsOn|Div3TotalGTime|Div3LongestGTime|Div3WheelsOff|Div3TailNum|Div4Airport|Div4AirportID|Div4AirportSeqID|Div4WheelsOn|Div4TotalGTime|Div4LongestGTime|Div4WheelsOff|Div4TailNum|Div5Airport|Div5AirportID|Div5AirportSeqID|Div5WheelsOn|Div5TotalGTime|Div5LongestGTime|Div5WheelsOff|Div5TailNum|_c109|\n",
      "+----+-------+-----+----------+---------+----------+-------------+---------+-------+-------+---------+---------------+------------------+------------------+------+--------------+-----------+---------------+---------------+---------+-------------+----------------+----------------+----+---------------+---------+-------------+-------------+-------+----------+-------+--------+---------------+--------+--------------------+----------+-------+---------+--------+------+----------+-------+--------+---------------+--------+------------------+----------+---------+----------------+--------+--------------+-----------------+-------+-------+--------+-------------+------------+------------+--------+-------------+-----------------+------------+-------------+---------------+------------------+--------------+--------------------+-----------+-----------+-----------+-------------+----------------+------------+--------------+----------------+-------------+-----------+-----------+-------------+----------------+------------+--------------+----------------+-------------+-----------+-----------+-------------+----------------+------------+--------------+----------------+-------------+-----------+-----------+-------------+----------------+------------+--------------+----------------+-------------+-----------+-----------+-------------+----------------+------------+--------------+----------------+-------------+-----------+-----+\n",
      "|2005|      1|    1|         1|        6|2005-01-01|           AA|    19805|     AA| N338AA|        1|          12478|           1247801|             31703|   JFK|  New York, NY|         NY|             36|       New York|       22|        12892|         1289201|           32575| LAX|Los Angeles, CA|       CA|           06|   California|     91|      0900|   0901|    1.00|           1.00|    0.00|                   0| 0900-0959|  27.00|     0928|    1206|  8.00|      1210|   1214|    4.00|           4.00|    0.00|                 0| 1200-1259|     0.00|            null|    0.00|        370.00|           373.00| 338.00|   1.00| 2475.00|           10|        null|        null|    null|         null|             null|        null|         null|           null|              null|          null|                null|       null|       null|       null|         null|            null|        null|          null|            null|         null|       null|       null|         null|            null|        null|          null|            null|         null|       null|       null|         null|            null|        null|          null|            null|         null|       null|       null|         null|            null|        null|          null|            null|         null|       null|       null|         null|            null|        null|          null|            null|         null|       null| null|\n",
      "|2005|      1|    1|         2|        7|2005-01-02|           AA|    19805|     AA| N323AA|        1|          12478|           1247801|             31703|   JFK|  New York, NY|         NY|             36|       New York|       22|        12892|         1289201|           32575| LAX|Los Angeles, CA|       CA|           06|   California|     91|      0900|   0855|   -5.00|           0.00|    0.00|                  -1| 0900-0959|  18.00|     0913|    1202| 34.00|      1210|   1236|   26.00|          26.00|    1.00|                 1| 1200-1259|     0.00|            null|    0.00|        370.00|           401.00| 349.00|   1.00| 2475.00|           10|        0.00|        0.00|   26.00|         0.00|             0.00|        null|         null|           null|              null|          null|                null|       null|       null|       null|         null|            null|        null|          null|            null|         null|       null|       null|         null|            null|        null|          null|            null|         null|       null|       null|         null|            null|        null|          null|            null|         null|       null|       null|         null|            null|        null|          null|            null|         null|       null|       null|         null|            null|        null|          null|            null|         null|       null| null|\n",
      "|2005|      1|    1|         3|        1|2005-01-03|           AA|    19805|     AA| N336AA|        1|          12478|           1247801|             31703|   JFK|  New York, NY|         NY|             36|       New York|       22|        12892|         1289201|           32575| LAX|Los Angeles, CA|       CA|           06|   California|     91|      0900|   0901|    1.00|           1.00|    0.00|                   0| 0900-0959|  15.00|     0916|    1226| 12.00|      1210|   1238|   28.00|          28.00|    1.00|                 1| 1200-1259|     0.00|            null|    0.00|        370.00|           397.00| 370.00|   1.00| 2475.00|           10|        0.00|        0.00|   28.00|         0.00|             0.00|        null|         null|           null|              null|          null|                null|       null|       null|       null|         null|            null|        null|          null|            null|         null|       null|       null|         null|            null|        null|          null|            null|         null|       null|       null|         null|            null|        null|          null|            null|         null|       null|       null|         null|            null|        null|          null|            null|         null|       null|       null|         null|            null|        null|          null|            null|         null|       null| null|\n",
      "|2005|      1|    1|         4|        2|2005-01-04|           AA|    19805|     AA| N327AA|        1|          12478|           1247801|             31703|   JFK|  New York, NY|         NY|             36|       New York|       22|        12892|         1289201|           32575| LAX|Los Angeles, CA|       CA|           06|   California|     91|      0900|   0856|   -4.00|           0.00|    0.00|                  -1| 0900-0959|  41.00|     0937|    1227| 39.00|      1210|   1306|   56.00|          56.00|    1.00|                 3| 1200-1259|     0.00|            null|    0.00|        370.00|           430.00| 350.00|   1.00| 2475.00|           10|        0.00|        0.00|   56.00|         0.00|             0.00|        null|         null|           null|              null|          null|                null|       null|       null|       null|         null|            null|        null|          null|            null|         null|       null|       null|         null|            null|        null|          null|            null|         null|       null|       null|         null|            null|        null|          null|            null|         null|       null|       null|         null|            null|        null|          null|            null|         null|       null|       null|         null|            null|        null|          null|            null|         null|       null| null|\n",
      "|2005|      1|    1|         5|        3|2005-01-05|           AA|    19805|     AA| N327AA|        1|          12478|           1247801|             31703|   JFK|  New York, NY|         NY|             36|       New York|       22|        12892|         1289201|           32575| LAX|Los Angeles, CA|       CA|           06|   California|     91|      0900|   0857|   -3.00|           0.00|    0.00|                  -1| 0900-0959|  14.00|     0911|    1146|  8.00|      1210|   1154|  -16.00|           0.00|    0.00|                -2| 1200-1259|     0.00|            null|    0.00|        370.00|           357.00| 335.00|   1.00| 2475.00|           10|        null|        null|    null|         null|             null|        null|         null|           null|              null|          null|                null|       null|       null|       null|         null|            null|        null|          null|            null|         null|       null|       null|         null|            null|        null|          null|            null|         null|       null|       null|         null|            null|        null|          null|            null|         null|       null|       null|         null|            null|        null|          null|            null|         null|       null|       null|         null|            null|        null|          null|            null|         null|       null| null|\n",
      "|2005|      1|    1|         6|        4|2005-01-06|           AA|    19805|     AA| N322AA|        1|          12478|           1247801|             31703|   JFK|  New York, NY|         NY|             36|       New York|       22|        12892|         1289201|           32575| LAX|Los Angeles, CA|       CA|           06|   California|     91|      0900|   0855|   -5.00|           0.00|    0.00|                  -1| 0900-0959|  25.00|     0920|    1156|  8.00|      1210|   1204|   -6.00|           0.00|    0.00|                -1| 1200-1259|     0.00|            null|    0.00|        370.00|           369.00| 336.00|   1.00| 2475.00|           10|        null|        null|    null|         null|             null|        null|         null|           null|              null|          null|                null|       null|       null|       null|         null|            null|        null|          null|            null|         null|       null|       null|         null|            null|        null|          null|            null|         null|       null|       null|         null|            null|        null|          null|            null|         null|       null|       null|         null|            null|        null|          null|            null|         null|       null|       null|         null|            null|        null|          null|            null|         null|       null| null|\n",
      "|2005|      1|    1|         7|        5|2005-01-07|           AA|    19805|     AA| N330AA|        1|          12478|           1247801|             31703|   JFK|  New York, NY|         NY|             36|       New York|       22|        12892|         1289201|           32575| LAX|Los Angeles, CA|       CA|           06|   California|     91|      0900|   0856|   -4.00|           0.00|    0.00|                  -1| 0900-0959|  19.00|     0915|    1235| 10.00|      1210|   1245|   35.00|          35.00|    1.00|                 2| 1200-1259|     0.00|            null|    0.00|        370.00|           409.00| 380.00|   1.00| 2475.00|           10|        0.00|        0.00|   35.00|         0.00|             0.00|        null|         null|           null|              null|          null|                null|       null|       null|       null|         null|            null|        null|          null|            null|         null|       null|       null|         null|            null|        null|          null|            null|         null|       null|       null|         null|            null|        null|          null|            null|         null|       null|       null|         null|            null|        null|          null|            null|         null|       null|       null|         null|            null|        null|          null|            null|         null|       null| null|\n",
      "|2005|      1|    1|         8|        6|2005-01-08|           AA|    19805|     AA| N329AA|        1|          12478|           1247801|             31703|   JFK|  New York, NY|         NY|             36|       New York|       22|        12892|         1289201|           32575| LAX|Los Angeles, CA|       CA|           06|   California|     91|      0900|   0858|   -2.00|           0.00|    0.00|                  -1| 0900-0959|  21.00|     0919|    1218|  9.00|      1210|   1227|   17.00|          17.00|    1.00|                 1| 1200-1259|     0.00|            null|    0.00|        370.00|           389.00| 359.00|   1.00| 2475.00|           10|        0.00|        0.00|   17.00|         0.00|             0.00|        null|         null|           null|              null|          null|                null|       null|       null|       null|         null|            null|        null|          null|            null|         null|       null|       null|         null|            null|        null|          null|            null|         null|       null|       null|         null|            null|        null|          null|            null|         null|       null|       null|         null|            null|        null|          null|            null|         null|       null|       null|         null|            null|        null|          null|            null|         null|       null| null|\n",
      "|2005|      1|    1|         9|        7|2005-01-09|           AA|    19805|     AA| N338AA|        1|          12478|           1247801|             31703|   JFK|  New York, NY|         NY|             36|       New York|       22|        12892|         1289201|           32575| LAX|Los Angeles, CA|       CA|           06|   California|     91|      0900|   0857|   -3.00|           0.00|    0.00|                  -1| 0900-0959|  18.00|     0915|    1223| 45.00|      1210|   1308|   58.00|          58.00|    1.00|                 3| 1200-1259|     0.00|            null|    0.00|        370.00|           431.00| 368.00|   1.00| 2475.00|           10|        0.00|        0.00|   58.00|         0.00|             0.00|        null|         null|           null|              null|          null|                null|       null|       null|       null|         null|            null|        null|          null|            null|         null|       null|       null|         null|            null|        null|          null|            null|         null|       null|       null|         null|            null|        null|          null|            null|         null|       null|       null|         null|            null|        null|          null|            null|         null|       null|       null|         null|            null|        null|          null|            null|         null|       null| null|\n",
      "|2005|      1|    1|        10|        1|2005-01-10|           AA|    19805|     AA| N323AA|        1|          12478|           1247801|             31703|   JFK|  New York, NY|         NY|             36|       New York|       22|        12892|         1289201|           32575| LAX|Los Angeles, CA|       CA|           06|   California|     91|      0900|   0857|   -3.00|           0.00|    0.00|                  -1| 0900-0959|  17.00|     0914|    1210|  7.00|      1210|   1217|    7.00|           7.00|    0.00|                 0| 1200-1259|     0.00|            null|    0.00|        370.00|           380.00| 356.00|   1.00| 2475.00|           10|        null|        null|    null|         null|             null|        null|         null|           null|              null|          null|                null|       null|       null|       null|         null|            null|        null|          null|            null|         null|       null|       null|         null|            null|        null|          null|            null|         null|       null|       null|         null|            null|        null|          null|            null|         null|       null|       null|         null|            null|        null|          null|            null|         null|       null|       null|         null|            null|        null|          null|            null|         null|       null| null|\n",
      "|2005|      1|    1|        11|        2|2005-01-11|           AA|    19805|     AA| N324AA|        1|          12478|           1247801|             31703|   JFK|  New York, NY|         NY|             36|       New York|       22|        12892|         1289201|           32575| LAX|Los Angeles, CA|       CA|           06|   California|     91|      0900|   0855|   -5.00|           0.00|    0.00|                  -1| 0900-0959|  22.00|     0917|    1210|  7.00|      1210|   1217|    7.00|           7.00|    0.00|                 0| 1200-1259|     0.00|            null|    0.00|        370.00|           382.00| 353.00|   1.00| 2475.00|           10|        null|        null|    null|         null|             null|        null|         null|           null|              null|          null|                null|       null|       null|       null|         null|            null|        null|          null|            null|         null|       null|       null|         null|            null|        null|          null|            null|         null|       null|       null|         null|            null|        null|          null|            null|         null|       null|       null|         null|            null|        null|          null|            null|         null|       null|       null|         null|            null|        null|          null|            null|         null|       null| null|\n",
      "|2005|      1|    1|        12|        3|2005-01-12|           AA|    19805|     AA| N324AA|        1|          12478|           1247801|             31703|   JFK|  New York, NY|         NY|             36|       New York|       22|        12892|         1289201|           32575| LAX|Los Angeles, CA|       CA|           06|   California|     91|      0900|   0856|   -4.00|           0.00|    0.00|                  -1| 0900-0959|  17.00|     0913|    1145|  6.00|      1210|   1151|  -19.00|           0.00|    0.00|                -2| 1200-1259|     0.00|            null|    0.00|        370.00|           355.00| 332.00|   1.00| 2475.00|           10|        null|        null|    null|         null|             null|        null|         null|           null|              null|          null|                null|       null|       null|       null|         null|            null|        null|          null|            null|         null|       null|       null|         null|            null|        null|          null|            null|         null|       null|       null|         null|            null|        null|          null|            null|         null|       null|       null|         null|            null|        null|          null|            null|         null|       null|       null|         null|            null|        null|          null|            null|         null|       null| null|\n",
      "|2005|      1|    1|        13|        4|2005-01-13|           AA|    19805|     AA| N335AA|        1|          12478|           1247801|             31703|   JFK|  New York, NY|         NY|             36|       New York|       22|        12892|         1289201|           32575| LAX|Los Angeles, CA|       CA|           06|   California|     91|      0900|   0859|   -1.00|           0.00|    0.00|                  -1| 0900-0959|  52.00|     0951|    1230|  6.00|      1210|   1236|   26.00|          26.00|    1.00|                 1| 1200-1259|     0.00|            null|    0.00|        370.00|           397.00| 339.00|   1.00| 2475.00|           10|        0.00|        0.00|   26.00|         0.00|             0.00|        null|         null|           null|              null|          null|                null|       null|       null|       null|         null|            null|        null|          null|            null|         null|       null|       null|         null|            null|        null|          null|            null|         null|       null|       null|         null|            null|        null|          null|            null|         null|       null|       null|         null|            null|        null|          null|            null|         null|       null|       null|         null|            null|        null|          null|            null|         null|       null| null|\n",
      "|2005|      1|    1|        14|        5|2005-01-14|           AA|    19805|     AA| N319AA|        1|          12478|           1247801|             31703|   JFK|  New York, NY|         NY|             36|       New York|       22|        12892|         1289201|           32575| LAX|Los Angeles, CA|       CA|           06|   California|     91|      0900|   0900|    0.00|           0.00|    0.00|                   0| 0900-0959|  23.00|     0923|    1202| 30.00|      1210|   1232|   22.00|          22.00|    1.00|                 1| 1200-1259|     0.00|            null|    0.00|        370.00|           392.00| 339.00|   1.00| 2475.00|           10|        0.00|        0.00|   22.00|         0.00|             0.00|        null|         null|           null|              null|          null|                null|       null|       null|       null|         null|            null|        null|          null|            null|         null|       null|       null|         null|            null|        null|          null|            null|         null|       null|       null|         null|            null|        null|          null|            null|         null|       null|       null|         null|            null|        null|          null|            null|         null|       null|       null|         null|            null|        null|          null|            null|         null|       null| null|\n",
      "|2005|      1|    1|        15|        6|2005-01-15|           AA|    19805|     AA| N336AA|        1|          12478|           1247801|             31703|   JFK|  New York, NY|         NY|             36|       New York|       22|        12892|         1289201|           32575| LAX|Los Angeles, CA|       CA|           06|   California|     91|      0900|   0906|    6.00|           6.00|    0.00|                   0| 0900-0959|  11.00|     0917|    1152|  8.00|      1210|   1200|  -10.00|           0.00|    0.00|                -1| 1200-1259|     0.00|            null|    0.00|        370.00|           354.00| 335.00|   1.00| 2475.00|           10|        null|        null|    null|         null|             null|        null|         null|           null|              null|          null|                null|       null|       null|       null|         null|            null|        null|          null|            null|         null|       null|       null|         null|            null|        null|          null|            null|         null|       null|       null|         null|            null|        null|          null|            null|         null|       null|       null|         null|            null|        null|          null|            null|         null|       null|       null|         null|            null|        null|          null|            null|         null|       null| null|\n",
      "|2005|      1|    1|        16|        7|2005-01-16|           AA|    19805|     AA| N322AA|        1|          12478|           1247801|             31703|   JFK|  New York, NY|         NY|             36|       New York|       22|        12892|         1289201|           32575| LAX|Los Angeles, CA|       CA|           06|   California|     91|      0900|   0856|   -4.00|           0.00|    0.00|                  -1| 0900-0959|  25.00|     0921|    1201|  5.00|      1210|   1206|   -4.00|           0.00|    0.00|                -1| 1200-1259|     0.00|            null|    0.00|        370.00|           370.00| 340.00|   1.00| 2475.00|           10|        null|        null|    null|         null|             null|        null|         null|           null|              null|          null|                null|       null|       null|       null|         null|            null|        null|          null|            null|         null|       null|       null|         null|            null|        null|          null|            null|         null|       null|       null|         null|            null|        null|          null|            null|         null|       null|       null|         null|            null|        null|          null|            null|         null|       null|       null|         null|            null|        null|          null|            null|         null|       null| null|\n",
      "|2005|      1|    1|        17|        1|2005-01-17|           AA|    19805|     AA| N330AA|        1|          12478|           1247801|             31703|   JFK|  New York, NY|         NY|             36|       New York|       22|        12892|         1289201|           32575| LAX|Los Angeles, CA|       CA|           06|   California|     91|      0900|   0904|    4.00|           4.00|    0.00|                   0| 0900-0959|  68.00|     1012|    1239| 24.00|      1210|   1303|   53.00|          53.00|    1.00|                 3| 1200-1259|     0.00|            null|    0.00|        370.00|           419.00| 327.00|   1.00| 2475.00|           10|        0.00|        0.00|   53.00|         0.00|             0.00|        null|         null|           null|              null|          null|                null|       null|       null|       null|         null|            null|        null|          null|            null|         null|       null|       null|         null|            null|        null|          null|            null|         null|       null|       null|         null|            null|        null|          null|            null|         null|       null|       null|         null|            null|        null|          null|            null|         null|       null|       null|         null|            null|        null|          null|            null|         null|       null| null|\n",
      "|2005|      1|    1|        18|        2|2005-01-18|           AA|    19805|     AA| N328AA|        1|          12478|           1247801|             31703|   JFK|  New York, NY|         NY|             36|       New York|       22|        12892|         1289201|           32575| LAX|Los Angeles, CA|       CA|           06|   California|     91|      0900|   0858|   -2.00|           0.00|    0.00|                  -1| 0900-0959|  16.00|     0914|    1122| 22.00|      1210|   1144|  -26.00|           0.00|    0.00|                -2| 1200-1259|     0.00|            null|    0.00|        370.00|           346.00| 308.00|   1.00| 2475.00|           10|        null|        null|    null|         null|             null|        null|         null|           null|              null|          null|                null|       null|       null|       null|         null|            null|        null|          null|            null|         null|       null|       null|         null|            null|        null|          null|            null|         null|       null|       null|         null|            null|        null|          null|            null|         null|       null|       null|         null|            null|        null|          null|            null|         null|       null|       null|         null|            null|        null|          null|            null|         null|       null| null|\n",
      "|2005|      1|    1|        19|        3|2005-01-19|           AA|    19805|     AA| N320AA|        1|          12478|           1247801|             31703|   JFK|  New York, NY|         NY|             36|       New York|       22|        12892|         1289201|           32575| LAX|Los Angeles, CA|       CA|           06|   California|     91|      0900|   0858|   -2.00|           0.00|    0.00|                  -1| 0900-0959|  13.00|     0911|    1126| 11.00|      1210|   1137|  -33.00|           0.00|    0.00|                -2| 1200-1259|     0.00|            null|    0.00|        370.00|           339.00| 315.00|   1.00| 2475.00|           10|        null|        null|    null|         null|             null|        null|         null|           null|              null|          null|                null|       null|       null|       null|         null|            null|        null|          null|            null|         null|       null|       null|         null|            null|        null|          null|            null|         null|       null|       null|         null|            null|        null|          null|            null|         null|       null|       null|         null|            null|        null|          null|            null|         null|       null|       null|         null|            null|        null|          null|            null|         null|       null| null|\n",
      "|2005|      1|    1|        20|        4|2005-01-20|           AA|    19805|     AA| N325AA|        1|          12478|           1247801|             31703|   JFK|  New York, NY|         NY|             36|       New York|       22|        12892|         1289201|           32575| LAX|Los Angeles, CA|       CA|           06|   California|     91|      0900|   0906|    6.00|           6.00|    0.00|                   0| 0900-0959|  19.00|     0925|    1148| 20.00|      1210|   1208|   -2.00|           0.00|    0.00|                -1| 1200-1259|     0.00|            null|    0.00|        370.00|           362.00| 323.00|   1.00| 2475.00|           10|        null|        null|    null|         null|             null|        null|         null|           null|              null|          null|                null|       null|       null|       null|         null|            null|        null|          null|            null|         null|       null|       null|         null|            null|        null|          null|            null|         null|       null|       null|         null|            null|        null|          null|            null|         null|       null|       null|         null|            null|        null|          null|            null|         null|       null|       null|         null|            null|        null|          null|            null|         null|       null| null|\n",
      "+----+-------+-----+----------+---------+----------+-------------+---------+-------+-------+---------+---------------+------------------+------------------+------+--------------+-----------+---------------+---------------+---------+-------------+----------------+----------------+----+---------------+---------+-------------+-------------+-------+----------+-------+--------+---------------+--------+--------------------+----------+-------+---------+--------+------+----------+-------+--------+---------------+--------+------------------+----------+---------+----------------+--------+--------------+-----------------+-------+-------+--------+-------------+------------+------------+--------+-------------+-----------------+------------+-------------+---------------+------------------+--------------+--------------------+-----------+-----------+-----------+-------------+----------------+------------+--------------+----------------+-------------+-----------+-----------+-------------+----------------+------------+--------------+----------------+-------------+-----------+-----------+-------------+----------------+------------+--------------+----------------+-------------+-----------+-----------+-------------+----------------+------------+--------------+----------------+-------------+-----------+-----------+-------------+----------------+------------+--------------+----------------+-------------+-----------+-----+\n",
      "only showing top 20 rows\n",
      "\n"
     ]
    }
   ],
   "source": [
    "df.show()"
   ]
  },
  {
   "cell_type": "markdown",
   "id": "c75ae56b",
   "metadata": {},
   "source": [
    "<h1> Data Preparation </h1>"
   ]
  },
  {
   "cell_type": "code",
   "execution_count": 7,
   "id": "e1adcd2c",
   "metadata": {},
   "outputs": [],
   "source": [
    "#create new dataframe as per required columns for prediction\n",
    "AirlineDF = df.select(\"Origin\", \"Dest\", \"AirTime\", \"Distance\", \"DepDelayMinutes\", \"ArrDelayMinutes\")"
   ]
  },
  {
   "cell_type": "code",
   "execution_count": 8,
   "id": "9eb757ab",
   "metadata": {},
   "outputs": [
    {
     "data": {
      "text/plain": [
       "DataFrame[Origin: string, Dest: string, AirTime: string, Distance: string, DepDelayMinutes: string, ArrDelayMinutes: string]"
      ]
     },
     "execution_count": 8,
     "metadata": {},
     "output_type": "execute_result"
    }
   ],
   "source": [
    "#cache data in-memory\n",
    "AirlineDF.cache()"
   ]
  },
  {
   "cell_type": "code",
   "execution_count": 9,
   "id": "04503f7d",
   "metadata": {},
   "outputs": [
    {
     "name": "stdout",
     "output_type": "stream",
     "text": [
      "+------+----+-------+--------+---------------+---------------+\n",
      "|Origin|Dest|AirTime|Distance|DepDelayMinutes|ArrDelayMinutes|\n",
      "+------+----+-------+--------+---------------+---------------+\n",
      "|   JFK| LAX| 338.00| 2475.00|           1.00|           4.00|\n",
      "|   JFK| LAX| 349.00| 2475.00|           0.00|          26.00|\n",
      "|   JFK| LAX| 370.00| 2475.00|           1.00|          28.00|\n",
      "|   JFK| LAX| 350.00| 2475.00|           0.00|          56.00|\n",
      "|   JFK| LAX| 335.00| 2475.00|           0.00|           0.00|\n",
      "|   JFK| LAX| 336.00| 2475.00|           0.00|           0.00|\n",
      "|   JFK| LAX| 380.00| 2475.00|           0.00|          35.00|\n",
      "|   JFK| LAX| 359.00| 2475.00|           0.00|          17.00|\n",
      "|   JFK| LAX| 368.00| 2475.00|           0.00|          58.00|\n",
      "|   JFK| LAX| 356.00| 2475.00|           0.00|           7.00|\n",
      "|   JFK| LAX| 353.00| 2475.00|           0.00|           7.00|\n",
      "|   JFK| LAX| 332.00| 2475.00|           0.00|           0.00|\n",
      "|   JFK| LAX| 339.00| 2475.00|           0.00|          26.00|\n",
      "|   JFK| LAX| 339.00| 2475.00|           0.00|          22.00|\n",
      "|   JFK| LAX| 335.00| 2475.00|           6.00|           0.00|\n",
      "|   JFK| LAX| 340.00| 2475.00|           0.00|           0.00|\n",
      "|   JFK| LAX| 327.00| 2475.00|           4.00|          53.00|\n",
      "|   JFK| LAX| 308.00| 2475.00|           0.00|           0.00|\n",
      "|   JFK| LAX| 315.00| 2475.00|           0.00|           0.00|\n",
      "|   JFK| LAX| 323.00| 2475.00|           6.00|           0.00|\n",
      "+------+----+-------+--------+---------------+---------------+\n",
      "only showing top 20 rows\n",
      "\n"
     ]
    }
   ],
   "source": [
    "AirlineDF.show()"
   ]
  },
  {
   "cell_type": "code",
   "execution_count": 10,
   "id": "24c365c6",
   "metadata": {},
   "outputs": [
    {
     "name": "stdout",
     "output_type": "stream",
     "text": [
      "root\n",
      " |-- Origin: string (nullable = true)\n",
      " |-- Dest: string (nullable = true)\n",
      " |-- AirTime: string (nullable = true)\n",
      " |-- Distance: string (nullable = true)\n",
      " |-- DepDelayMinutes: string (nullable = true)\n",
      " |-- ArrDelayMinutes: string (nullable = true)\n",
      "\n"
     ]
    }
   ],
   "source": [
    "#check data types of each columns \n",
    "AirlineDF.printSchema()"
   ]
  },
  {
   "cell_type": "markdown",
   "id": "aad6384f",
   "metadata": {},
   "source": [
    "<h1> We need to change data types of columns </h1>"
   ]
  },
  {
   "cell_type": "code",
   "execution_count": 12,
   "id": "2c45f37d",
   "metadata": {},
   "outputs": [],
   "source": [
    "#import sql library for data types \n",
    "from pyspark.sql.types import IntegerType, DoubleType"
   ]
  },
  {
   "cell_type": "code",
   "execution_count": 13,
   "id": "7108f1ee",
   "metadata": {},
   "outputs": [],
   "source": [
    "AirlineDF = AirlineDF.withColumn(\"Distance\", AirlineDF[\"Distance\"].cast(IntegerType()))\n",
    "AirlineDF = AirlineDF.withColumn(\"AirTime\", AirlineDF[\"AirTime\"].cast(IntegerType()))\n",
    "AirlineDF = AirlineDF.withColumn(\"DepDelayMinutes\", AirlineDF[\"DepDelayminutes\"].cast(DoubleType()))\n",
    "AirlineDF = AirlineDF.withColumn(\"ArrDelayMinutes\", AirlineDF[\"ArrDelayMinutes\"].cast(DoubleType()))"
   ]
  },
  {
   "cell_type": "code",
   "execution_count": 14,
   "id": "9150f778",
   "metadata": {},
   "outputs": [
    {
     "name": "stdout",
     "output_type": "stream",
     "text": [
      "root\n",
      " |-- Origin: string (nullable = true)\n",
      " |-- Dest: string (nullable = true)\n",
      " |-- AirTime: integer (nullable = true)\n",
      " |-- Distance: integer (nullable = true)\n",
      " |-- DepDelayMinutes: double (nullable = true)\n",
      " |-- ArrDelayMinutes: double (nullable = true)\n",
      "\n"
     ]
    }
   ],
   "source": [
    "AirlineDF.printSchema()"
   ]
  },
  {
   "cell_type": "markdown",
   "id": "c1cae656",
   "metadata": {},
   "source": [
    "<h1> Check is there any null values in DataFrame </h1>"
   ]
  },
  {
   "cell_type": "code",
   "execution_count": 15,
   "id": "b1d214e6",
   "metadata": {},
   "outputs": [],
   "source": [
    "#import library for sql function col\n",
    "from pyspark.sql.functions import col "
   ]
  },
  {
   "cell_type": "code",
   "execution_count": 16,
   "id": "b294ce77",
   "metadata": {},
   "outputs": [
    {
     "name": "stdout",
     "output_type": "stream",
     "text": [
      "0\n",
      "0\n",
      "184800\n",
      "0\n",
      "167689\n",
      "184800\n"
     ]
    }
   ],
   "source": [
    "#check null values in each columns \n",
    "print(AirlineDF.where(col(\"Origin\").isNull()).count())\n",
    "print(AirlineDF.where(col(\"Dest\").isNull()).count())\n",
    "print(AirlineDF.where(col(\"AirTime\").isNull()).count())\n",
    "print(AirlineDF.where(col(\"Distance\").isNull()).count())\n",
    "print(AirlineDF.where(col(\"DepDelayMinutes\").isNull()).count())\n",
    "print(AirlineDF.where(col(\"ArrDelayMinutes\").isNull()).count())"
   ]
  },
  {
   "cell_type": "markdown",
   "id": "8cccc3d9",
   "metadata": {},
   "source": [
    "<h1> we need to handle null values </h1>"
   ]
  },
  {
   "cell_type": "code",
   "execution_count": 17,
   "id": "0b903054",
   "metadata": {},
   "outputs": [],
   "source": [
    "#now drop row as correspondace to null values \n",
    "AirlineDF = AirlineDF.dropna()"
   ]
  },
  {
   "cell_type": "code",
   "execution_count": 18,
   "id": "5c61f8f9",
   "metadata": {},
   "outputs": [
    {
     "name": "stdout",
     "output_type": "stream",
     "text": [
      "0\n",
      "0\n",
      "0\n",
      "0\n",
      "0\n",
      "0\n"
     ]
    }
   ],
   "source": [
    "#check null values in each columns \n",
    "print(AirlineDF.where(col(\"Origin\").isNull()).count())\n",
    "print(AirlineDF.where(col(\"Dest\").isNull()).count())\n",
    "print(AirlineDF.where(col(\"AirTime\").isNull()).count())\n",
    "print(AirlineDF.where(col(\"Distance\").isNull()).count())\n",
    "print(AirlineDF.where(col(\"DepDelayMinutes\").isNull()).count())\n",
    "print(AirlineDF.where(col(\"ArrDelayMinutes\").isNull()).count())"
   ]
  },
  {
   "cell_type": "markdown",
   "id": "ee8db520",
   "metadata": {},
   "source": [
    "<h1> we need convert distance miles into kilometers </h1>"
   ]
  },
  {
   "cell_type": "code",
   "execution_count": 19,
   "id": "47bfea04",
   "metadata": {},
   "outputs": [
    {
     "name": "stdout",
     "output_type": "stream",
     "text": [
      "+------+----+-------+--------+---------------+---------------+\n",
      "|Origin|Dest|AirTime|Distance|DepDelayMinutes|ArrDelayMinutes|\n",
      "+------+----+-------+--------+---------------+---------------+\n",
      "|   JFK| LAX|    338|  3983.0|            1.0|            4.0|\n",
      "|   JFK| LAX|    349|  3983.0|            0.0|           26.0|\n",
      "|   JFK| LAX|    370|  3983.0|            1.0|           28.0|\n",
      "|   JFK| LAX|    350|  3983.0|            0.0|           56.0|\n",
      "|   JFK| LAX|    335|  3983.0|            0.0|            0.0|\n",
      "|   JFK| LAX|    336|  3983.0|            0.0|            0.0|\n",
      "|   JFK| LAX|    380|  3983.0|            0.0|           35.0|\n",
      "|   JFK| LAX|    359|  3983.0|            0.0|           17.0|\n",
      "|   JFK| LAX|    368|  3983.0|            0.0|           58.0|\n",
      "|   JFK| LAX|    356|  3983.0|            0.0|            7.0|\n",
      "|   JFK| LAX|    353|  3983.0|            0.0|            7.0|\n",
      "|   JFK| LAX|    332|  3983.0|            0.0|            0.0|\n",
      "|   JFK| LAX|    339|  3983.0|            0.0|           26.0|\n",
      "|   JFK| LAX|    339|  3983.0|            0.0|           22.0|\n",
      "|   JFK| LAX|    335|  3983.0|            6.0|            0.0|\n",
      "|   JFK| LAX|    340|  3983.0|            0.0|            0.0|\n",
      "|   JFK| LAX|    327|  3983.0|            4.0|           53.0|\n",
      "|   JFK| LAX|    308|  3983.0|            0.0|            0.0|\n",
      "|   JFK| LAX|    315|  3983.0|            0.0|            0.0|\n",
      "|   JFK| LAX|    323|  3983.0|            6.0|            0.0|\n",
      "+------+----+-------+--------+---------------+---------------+\n",
      "only showing top 20 rows\n",
      "\n"
     ]
    }
   ],
   "source": [
    "from pyspark.sql.functions import round\n",
    "\n",
    "#Convert 'mile' to 'km'\n",
    "AirlineDF = AirlineDF.withColumn('Distance', round(AirlineDF.Distance * 1.60934, 0))\n",
    "AirlineDF.show()"
   ]
  },
  {
   "cell_type": "code",
   "execution_count": 20,
   "id": "d32178ab",
   "metadata": {},
   "outputs": [
    {
     "name": "stdout",
     "output_type": "stream",
     "text": [
      "root\n",
      " |-- Origin: string (nullable = true)\n",
      " |-- Dest: string (nullable = true)\n",
      " |-- AirTime: integer (nullable = true)\n",
      " |-- Distance: double (nullable = true)\n",
      " |-- DepDelayMinutes: double (nullable = true)\n",
      " |-- ArrDelayMinutes: double (nullable = true)\n",
      "\n"
     ]
    }
   ],
   "source": [
    "AirlineDF.printSchema()"
   ]
  },
  {
   "cell_type": "markdown",
   "id": "316eafbc",
   "metadata": {},
   "source": [
    "<h1> Vectorize the features </h1>"
   ]
  },
  {
   "cell_type": "code",
   "execution_count": 21,
   "id": "fe875fb2",
   "metadata": {},
   "outputs": [],
   "source": [
    "from pyspark.ml.feature import *"
   ]
  },
  {
   "cell_type": "code",
   "execution_count": 22,
   "id": "1c3cd0d4",
   "metadata": {},
   "outputs": [],
   "source": [
    "from pyspark.ml.feature import VectorAssembler"
   ]
  },
  {
   "cell_type": "code",
   "execution_count": 23,
   "id": "90856dbd",
   "metadata": {},
   "outputs": [],
   "source": [
    "vectorizer = VectorAssembler()\n",
    "vectorizer.setInputCols(['Distance','DepDelayMinutes','ArrDelayMinutes'])\n",
    "vectorizer.setOutputCol('features')\n",
    "\n",
    "df_vect = vectorizer.setHandleInvalid(\"keep\").transform(AirlineDF)"
   ]
  },
  {
   "cell_type": "code",
   "execution_count": 24,
   "id": "a6f87005",
   "metadata": {},
   "outputs": [
    {
     "name": "stdout",
     "output_type": "stream",
     "text": [
      "+------+----+-------+--------+---------------+---------------+-----------------+\n",
      "|Origin|Dest|AirTime|Distance|DepDelayMinutes|ArrDelayMinutes|         features|\n",
      "+------+----+-------+--------+---------------+---------------+-----------------+\n",
      "|   JFK| LAX|    338|  3983.0|            1.0|            4.0| [3983.0,1.0,4.0]|\n",
      "|   JFK| LAX|    349|  3983.0|            0.0|           26.0|[3983.0,0.0,26.0]|\n",
      "|   JFK| LAX|    370|  3983.0|            1.0|           28.0|[3983.0,1.0,28.0]|\n",
      "|   JFK| LAX|    350|  3983.0|            0.0|           56.0|[3983.0,0.0,56.0]|\n",
      "|   JFK| LAX|    335|  3983.0|            0.0|            0.0| [3983.0,0.0,0.0]|\n",
      "|   JFK| LAX|    336|  3983.0|            0.0|            0.0| [3983.0,0.0,0.0]|\n",
      "|   JFK| LAX|    380|  3983.0|            0.0|           35.0|[3983.0,0.0,35.0]|\n",
      "|   JFK| LAX|    359|  3983.0|            0.0|           17.0|[3983.0,0.0,17.0]|\n",
      "|   JFK| LAX|    368|  3983.0|            0.0|           58.0|[3983.0,0.0,58.0]|\n",
      "|   JFK| LAX|    356|  3983.0|            0.0|            7.0| [3983.0,0.0,7.0]|\n",
      "|   JFK| LAX|    353|  3983.0|            0.0|            7.0| [3983.0,0.0,7.0]|\n",
      "|   JFK| LAX|    332|  3983.0|            0.0|            0.0| [3983.0,0.0,0.0]|\n",
      "|   JFK| LAX|    339|  3983.0|            0.0|           26.0|[3983.0,0.0,26.0]|\n",
      "|   JFK| LAX|    339|  3983.0|            0.0|           22.0|[3983.0,0.0,22.0]|\n",
      "|   JFK| LAX|    335|  3983.0|            6.0|            0.0| [3983.0,6.0,0.0]|\n",
      "|   JFK| LAX|    340|  3983.0|            0.0|            0.0| [3983.0,0.0,0.0]|\n",
      "|   JFK| LAX|    327|  3983.0|            4.0|           53.0|[3983.0,4.0,53.0]|\n",
      "|   JFK| LAX|    308|  3983.0|            0.0|            0.0| [3983.0,0.0,0.0]|\n",
      "|   JFK| LAX|    315|  3983.0|            0.0|            0.0| [3983.0,0.0,0.0]|\n",
      "|   JFK| LAX|    323|  3983.0|            6.0|            0.0| [3983.0,6.0,0.0]|\n",
      "+------+----+-------+--------+---------------+---------------+-----------------+\n",
      "only showing top 20 rows\n",
      "\n"
     ]
    }
   ],
   "source": [
    "df_vect.show()"
   ]
  },
  {
   "cell_type": "code",
   "execution_count": 25,
   "id": "f6d4dccc",
   "metadata": {},
   "outputs": [
    {
     "name": "stdout",
     "output_type": "stream",
     "text": [
      "handleInvalid: How to handle invalid data (NULL and NaN values). Options are 'skip' (filter out rows with invalid data), 'error' (throw an error), or 'keep' (return relevant number of NaN in the output). Column lengths are taken from the size of ML Attribute Group, which can be set using `VectorSizeHint` in a pipeline before `VectorAssembler`. Column lengths can also be inferred from first rows of the data since it is safe to do so but only in case of 'error' or 'skip'). (default: error, current: keep)\n",
      "inputCols: input column names. (current: ['Distance', 'DepDelayMinutes', 'ArrDelayMinutes'])\n",
      "outputCol: output column name. (default: VectorAssembler_23387f29bac7__output, current: features)\n"
     ]
    }
   ],
   "source": [
    "print(vectorizer.explainParams())"
   ]
  },
  {
   "cell_type": "markdown",
   "id": "1c2575e2",
   "metadata": {},
   "source": [
    "<h1> Train Test data Splitting </h1>"
   ]
  },
  {
   "cell_type": "code",
   "execution_count": 28,
   "id": "b571efc1",
   "metadata": {},
   "outputs": [],
   "source": [
    "flights_train, flights_test = df_vect.randomSplit([0.8, 0.2])"
   ]
  },
  {
   "cell_type": "code",
   "execution_count": 29,
   "id": "a7aff66d",
   "metadata": {},
   "outputs": [
    {
     "name": "stdout",
     "output_type": "stream",
     "text": [
      "+------+----+-------+--------+---------------+---------------+-----------------+\n",
      "|Origin|Dest|AirTime|Distance|DepDelayMinutes|ArrDelayMinutes|         features|\n",
      "+------+----+-------+--------+---------------+---------------+-----------------+\n",
      "|   ABE| CLT|     70|   774.0|            3.0|           10.0| [774.0,3.0,10.0]|\n",
      "|   ABE| CLT|     77|   774.0|            0.0|            6.0|  [774.0,0.0,6.0]|\n",
      "|   ABE| CLT|     77|   774.0|           50.0|           31.0|[774.0,50.0,31.0]|\n",
      "|   ABE| CLT|     78|   774.0|            5.0|            2.0|  [774.0,5.0,2.0]|\n",
      "|   ABE| CLT|     79|   774.0|            0.0|            0.0|  [774.0,0.0,0.0]|\n",
      "|   ABE| CLT|     79|   774.0|            0.0|            0.0|  [774.0,0.0,0.0]|\n",
      "|   ABE| CLT|     82|   774.0|            0.0|            0.0|  [774.0,0.0,0.0]|\n",
      "|   ABE| CLT|     82|   774.0|            0.0|            0.0|  [774.0,0.0,0.0]|\n",
      "|   ABE| CLT|     83|   774.0|            0.0|            0.0|  [774.0,0.0,0.0]|\n",
      "|   ABE| CLT|     83|   774.0|            0.0|            0.0|  [774.0,0.0,0.0]|\n",
      "|   ABE| CLT|     84|   774.0|            0.0|            0.0|  [774.0,0.0,0.0]|\n",
      "|   ABE| CLT|     84|   774.0|            0.0|            0.0|  [774.0,0.0,0.0]|\n",
      "|   ABE| CLT|     84|   774.0|            4.0|            7.0|  [774.0,4.0,7.0]|\n",
      "|   ABE| CLT|     84|   774.0|            5.0|           20.0| [774.0,5.0,20.0]|\n",
      "|   ABE| CLT|     86|   774.0|            0.0|            0.0|  [774.0,0.0,0.0]|\n",
      "|   ABE| CLT|     87|   774.0|            0.0|            0.0|  [774.0,0.0,0.0]|\n",
      "|   ABE| CLT|     87|   774.0|            0.0|            0.0|  [774.0,0.0,0.0]|\n",
      "|   ABE| CLT|     87|   774.0|            0.0|           11.0| [774.0,0.0,11.0]|\n",
      "|   ABE| CLT|     88|   774.0|           25.0|           36.0|[774.0,25.0,36.0]|\n",
      "|   ABE| CLT|     90|   774.0|            0.0|            0.0|  [774.0,0.0,0.0]|\n",
      "+------+----+-------+--------+---------------+---------------+-----------------+\n",
      "only showing top 20 rows\n",
      "\n"
     ]
    }
   ],
   "source": [
    "flights_train.show()"
   ]
  },
  {
   "cell_type": "markdown",
   "id": "6b25cde4",
   "metadata": {},
   "source": [
    "<h1> Regression Model Training </h1>"
   ]
  },
  {
   "cell_type": "code",
   "execution_count": 27,
   "id": "6de8cfe5",
   "metadata": {},
   "outputs": [],
   "source": [
    "from pyspark.ml.regression import LinearRegression "
   ]
  },
  {
   "cell_type": "code",
   "execution_count": 30,
   "id": "f477b7c1",
   "metadata": {},
   "outputs": [
    {
     "name": "stdout",
     "output_type": "stream",
     "text": [
      "aggregationDepth: suggested depth for treeAggregate (>= 2). (default: 2)\n",
      "elasticNetParam: the ElasticNet mixing parameter, in range [0, 1]. For alpha = 0, the penalty is an L2 penalty. For alpha = 1, it is an L1 penalty. (default: 0.0)\n",
      "epsilon: The shape parameter to control the amount of robustness. Must be > 1.0. Only valid when loss is huber (default: 1.35)\n",
      "featuresCol: features column name. (default: features)\n",
      "fitIntercept: whether to fit an intercept term. (default: True)\n",
      "labelCol: label column name. (default: label)\n",
      "loss: The loss function to be optimized. Supported options: squaredError, huber. (default: squaredError)\n",
      "maxBlockSizeInMB: maximum memory in MB for stacking input data into blocks. Data is stacked within partitions. If more than remaining data size in a partition then it is adjusted to the data size. Default 0.0 represents choosing optimal value, depends on specific algorithm. Must be >= 0. (default: 0.0)\n",
      "maxIter: max number of iterations (>= 0). (default: 100)\n",
      "predictionCol: prediction column name. (default: prediction)\n",
      "regParam: regularization parameter (>= 0). (default: 0.0)\n",
      "solver: The solver algorithm for optimization. Supported options: auto, normal, l-bfgs. (default: auto)\n",
      "standardization: whether to standardize the training features before fitting the model. (default: True)\n",
      "tol: the convergence tolerance for iterative algorithms (>= 0). (default: 1e-06)\n",
      "weightCol: weight column name. If this is not set or empty, we treat all instance weights as 1.0. (undefined)\n"
     ]
    }
   ],
   "source": [
    "lr = LinearRegression()\n",
    "print(lr.explainParams())"
   ]
  },
  {
   "cell_type": "code",
   "execution_count": 31,
   "id": "120a7a7f",
   "metadata": {},
   "outputs": [],
   "source": [
    "lr.setLabelCol('AirTime')\n",
    "lr.setFeaturesCol('features')\n",
    "model = lr.fit(flights_train)"
   ]
  },
  {
   "cell_type": "code",
   "execution_count": 32,
   "id": "de1c3375",
   "metadata": {},
   "outputs": [
    {
     "data": {
      "text/plain": [
       "pyspark.ml.regression.LinearRegressionModel"
      ]
     },
     "execution_count": 32,
     "metadata": {},
     "output_type": "execute_result"
    }
   ],
   "source": [
    "type(model)"
   ]
  },
  {
   "cell_type": "markdown",
   "id": "f2538c10",
   "metadata": {},
   "source": [
    "<h1> View model summary </h1>"
   ]
  },
  {
   "cell_type": "code",
   "execution_count": 33,
   "id": "af697568",
   "metadata": {},
   "outputs": [
    {
     "name": "stdout",
     "output_type": "stream",
     "text": [
      "R2: 0.9325119607396892\n",
      "Intercept: 20.057105688201478 Coefficients [0.07210055443067806,-0.34339514778644586,0.3496147604470657]\n"
     ]
    }
   ],
   "source": [
    "print(\"R2:\", model.summary.r2)\n",
    "print(\"Intercept:\", model.intercept, \"Coefficients\", model.coefficients)"
   ]
  },
  {
   "cell_type": "markdown",
   "id": "b8d9049f",
   "metadata": {},
   "source": [
    "<h1> Model Testing </h1>"
   ]
  },
  {
   "cell_type": "code",
   "execution_count": 34,
   "id": "d3f5eb5c",
   "metadata": {},
   "outputs": [
    {
     "name": "stdout",
     "output_type": "stream",
     "text": [
      "+------+----+-------+--------+---------------+---------------+------------------+------------------+\n",
      "|Origin|Dest|AirTime|Distance|DepDelayMinutes|ArrDelayMinutes|          features|        prediction|\n",
      "+------+----+-------+--------+---------------+---------------+------------------+------------------+\n",
      "|   ABE| CLT|     72|   774.0|           19.0|            4.0|  [774.0,19.0,4.0]| 70.73688605139209|\n",
      "|   ABE| CLT|     74|   774.0|            0.0|            0.0|   [774.0,0.0,0.0]| 75.86293481754629|\n",
      "|   ABE| CLT|     76|   774.0|            0.0|            0.0|   [774.0,0.0,0.0]| 75.86293481754629|\n",
      "|   ABE| CLT|     77|   774.0|            0.0|            0.0|   [774.0,0.0,0.0]| 75.86293481754629|\n",
      "|   ABE| CLT|     77|   774.0|            0.0|            0.0|   [774.0,0.0,0.0]| 75.86293481754629|\n",
      "|   ABE| CLT|     89|   774.0|            0.0|           12.0|  [774.0,0.0,12.0]| 80.05831194291108|\n",
      "|   ABE| CLT|     90|   774.0|            3.0|            0.0|   [774.0,3.0,0.0]| 74.83274937418696|\n",
      "|   ABE| PHL|     18|    89.0|            0.0|            0.0|    [89.0,0.0,0.0]|26.474055032531826|\n",
      "|   ABE| PHL|     21|    89.0|            0.0|            0.0|    [89.0,0.0,0.0]|26.474055032531826|\n",
      "|   ABE| PHL|     21|    89.0|            0.0|            0.0|    [89.0,0.0,0.0]|26.474055032531826|\n",
      "|   ABE| PHL|     21|    89.0|          186.0|          177.0|[89.0,186.0,177.0]| 24.48437014338352|\n",
      "|   ABE| PHL|     23|    89.0|            0.0|            0.0|    [89.0,0.0,0.0]|26.474055032531826|\n",
      "|   ABE| PHL|     23|    89.0|            0.0|            0.0|    [89.0,0.0,0.0]|26.474055032531826|\n",
      "|   ABE| PHL|     25|    89.0|            0.0|            0.0|    [89.0,0.0,0.0]|26.474055032531826|\n",
      "|   ABE| PHL|     40|    89.0|           67.0|           91.0|  [89.0,67.0,91.0]|35.281523331522926|\n",
      "|   ABQ| AMA|     36|   446.0|            0.0|            0.0|   [446.0,0.0,0.0]| 52.21395296428389|\n",
      "|   ABQ| AMA|     37|   446.0|            0.0|            0.0|   [446.0,0.0,0.0]| 52.21395296428389|\n",
      "|   ABQ| AMA|     37|   446.0|            0.0|            0.0|   [446.0,0.0,0.0]| 52.21395296428389|\n",
      "|   ABQ| AMA|     38|   446.0|            0.0|            5.0|   [446.0,0.0,5.0]|53.962026766519216|\n",
      "|   ABQ| AMA|     39|   446.0|            0.0|            0.0|   [446.0,0.0,0.0]| 52.21395296428389|\n",
      "+------+----+-------+--------+---------------+---------------+------------------+------------------+\n",
      "only showing top 20 rows\n",
      "\n"
     ]
    }
   ],
   "source": [
    "df_pred = model.transform(flights_test)\n",
    "df_pred.show()"
   ]
  },
  {
   "cell_type": "code",
   "execution_count": null,
   "id": "50fefb8a",
   "metadata": {},
   "outputs": [],
   "source": []
  }
 ],
 "metadata": {
  "kernelspec": {
   "display_name": "Python 3 (ipykernel)",
   "language": "python",
   "name": "python3"
  },
  "language_info": {
   "codemirror_mode": {
    "name": "ipython",
    "version": 3
   },
   "file_extension": ".py",
   "mimetype": "text/x-python",
   "name": "python",
   "nbconvert_exporter": "python",
   "pygments_lexer": "ipython3",
   "version": "3.9.7"
  }
 },
 "nbformat": 4,
 "nbformat_minor": 5
}
