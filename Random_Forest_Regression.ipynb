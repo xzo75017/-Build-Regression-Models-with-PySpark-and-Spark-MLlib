{
 "cells": [
  {
   "cell_type": "markdown",
   "id": "0e68d807",
   "metadata": {},
   "source": [
    "<h1> Install pyspark library </h1>"
   ]
  },
  {
   "cell_type": "code",
   "execution_count": 1,
   "id": "29e3b54b",
   "metadata": {},
   "outputs": [
    {
     "name": "stdout",
     "output_type": "stream",
     "text": [
      "Requirement already satisfied: pyspark in c:\\users\\user\\anaconda3\\lib\\site-packages (3.3.0)\n",
      "Requirement already satisfied: py4j==0.10.9.5 in c:\\users\\user\\anaconda3\\lib\\site-packages (from pyspark) (0.10.9.5)\n"
     ]
    }
   ],
   "source": [
    "!pip install pyspark"
   ]
  },
  {
   "cell_type": "code",
   "execution_count": 2,
   "id": "5ead6c7d",
   "metadata": {},
   "outputs": [],
   "source": [
    "#import pyspark library \n",
    "import pyspark"
   ]
  },
  {
   "cell_type": "code",
   "execution_count": 3,
   "id": "b2785050",
   "metadata": {},
   "outputs": [],
   "source": [
    "#import spark session library\n",
    "from pyspark.sql import SparkSession"
   ]
  },
  {
   "cell_type": "code",
   "execution_count": 4,
   "id": "ef063bf5",
   "metadata": {},
   "outputs": [],
   "source": [
    "#Create SparkSession object\n",
    "spark = SparkSession.builder \\\n",
    "                .master('local[*]') \\\n",
    "                .appName('random_forest_regression') \\\n",
    "                .getOrCreate()"
   ]
  },
  {
   "cell_type": "markdown",
   "id": "170961aa",
   "metadata": {},
   "source": [
    "<h1> Create DataFrame </h1>"
   ]
  },
  {
   "cell_type": "code",
   "execution_count": 5,
   "id": "08c7ad41",
   "metadata": {},
   "outputs": [],
   "source": [
    "#Tocreate dataframe form external datasets\n",
    "df = spark.read.option(\"header\",\"true\").csv(r\"C:\\Users\\User\\Downloads\\partitions\\Data\\*\")"
   ]
  },
  {
   "cell_type": "code",
   "execution_count": 6,
   "id": "e3ab9618",
   "metadata": {},
   "outputs": [
    {
     "name": "stdout",
     "output_type": "stream",
     "text": [
      "+----+-------+-----+----------+---------+----------+-------------+---------+-------+-------+---------+---------------+------------------+------------------+------+--------------+-----------+---------------+---------------+---------+-------------+----------------+----------------+----+---------------+---------+-------------+-------------+-------+----------+-------+--------+---------------+--------+--------------------+----------+-------+---------+--------+------+----------+-------+--------+---------------+--------+------------------+----------+---------+----------------+--------+--------------+-----------------+-------+-------+--------+-------------+------------+------------+--------+-------------+-----------------+------------+-------------+---------------+------------------+--------------+--------------------+-----------+-----------+-----------+-------------+----------------+------------+--------------+----------------+-------------+-----------+-----------+-------------+----------------+------------+--------------+----------------+-------------+-----------+-----------+-------------+----------------+------------+--------------+----------------+-------------+-----------+-----------+-------------+----------------+------------+--------------+----------------+-------------+-----------+-----------+-------------+----------------+------------+--------------+----------------+-------------+-----------+-----+\n",
      "|Year|Quarter|Month|DayofMonth|DayOfWeek|FlightDate|UniqueCarrier|AirlineID|Carrier|TailNum|FlightNum|OriginAirportID|OriginAirportSeqID|OriginCityMarketID|Origin|OriginCityName|OriginState|OriginStateFips|OriginStateName|OriginWac|DestAirportID|DestAirportSeqID|DestCityMarketID|Dest|   DestCityName|DestState|DestStateFips|DestStateName|DestWac|CRSDepTime|DepTime|DepDelay|DepDelayMinutes|DepDel15|DepartureDelayGroups|DepTimeBlk|TaxiOut|WheelsOff|WheelsOn|TaxiIn|CRSArrTime|ArrTime|ArrDelay|ArrDelayMinutes|ArrDel15|ArrivalDelayGroups|ArrTimeBlk|Cancelled|CancellationCode|Diverted|CRSElapsedTime|ActualElapsedTime|AirTime|Flights|Distance|DistanceGroup|CarrierDelay|WeatherDelay|NASDelay|SecurityDelay|LateAircraftDelay|FirstDepTime|TotalAddGTime|LongestAddGTime|DivAirportLandings|DivReachedDest|DivActualElapsedTime|DivArrDelay|DivDistance|Div1Airport|Div1AirportID|Div1AirportSeqID|Div1WheelsOn|Div1TotalGTime|Div1LongestGTime|Div1WheelsOff|Div1TailNum|Div2Airport|Div2AirportID|Div2AirportSeqID|Div2WheelsOn|Div2TotalGTime|Div2LongestGTime|Div2WheelsOff|Div2TailNum|Div3Airport|Div3AirportID|Div3AirportSeqID|Div3WheelsOn|Div3TotalGTime|Div3LongestGTime|Div3WheelsOff|Div3TailNum|Div4Airport|Div4AirportID|Div4AirportSeqID|Div4WheelsOn|Div4TotalGTime|Div4LongestGTime|Div4WheelsOff|Div4TailNum|Div5Airport|Div5AirportID|Div5AirportSeqID|Div5WheelsOn|Div5TotalGTime|Div5LongestGTime|Div5WheelsOff|Div5TailNum|_c109|\n",
      "+----+-------+-----+----------+---------+----------+-------------+---------+-------+-------+---------+---------------+------------------+------------------+------+--------------+-----------+---------------+---------------+---------+-------------+----------------+----------------+----+---------------+---------+-------------+-------------+-------+----------+-------+--------+---------------+--------+--------------------+----------+-------+---------+--------+------+----------+-------+--------+---------------+--------+------------------+----------+---------+----------------+--------+--------------+-----------------+-------+-------+--------+-------------+------------+------------+--------+-------------+-----------------+------------+-------------+---------------+------------------+--------------+--------------------+-----------+-----------+-----------+-------------+----------------+------------+--------------+----------------+-------------+-----------+-----------+-------------+----------------+------------+--------------+----------------+-------------+-----------+-----------+-------------+----------------+------------+--------------+----------------+-------------+-----------+-----------+-------------+----------------+------------+--------------+----------------+-------------+-----------+-----------+-------------+----------------+------------+--------------+----------------+-------------+-----------+-----+\n",
      "|2005|      1|    1|         1|        6|2005-01-01|           AA|    19805|     AA| N338AA|        1|          12478|           1247801|             31703|   JFK|  New York, NY|         NY|             36|       New York|       22|        12892|         1289201|           32575| LAX|Los Angeles, CA|       CA|           06|   California|     91|      0900|   0901|    1.00|           1.00|    0.00|                   0| 0900-0959|  27.00|     0928|    1206|  8.00|      1210|   1214|    4.00|           4.00|    0.00|                 0| 1200-1259|     0.00|            null|    0.00|        370.00|           373.00| 338.00|   1.00| 2475.00|           10|        null|        null|    null|         null|             null|        null|         null|           null|              null|          null|                null|       null|       null|       null|         null|            null|        null|          null|            null|         null|       null|       null|         null|            null|        null|          null|            null|         null|       null|       null|         null|            null|        null|          null|            null|         null|       null|       null|         null|            null|        null|          null|            null|         null|       null|       null|         null|            null|        null|          null|            null|         null|       null| null|\n",
      "|2005|      1|    1|         2|        7|2005-01-02|           AA|    19805|     AA| N323AA|        1|          12478|           1247801|             31703|   JFK|  New York, NY|         NY|             36|       New York|       22|        12892|         1289201|           32575| LAX|Los Angeles, CA|       CA|           06|   California|     91|      0900|   0855|   -5.00|           0.00|    0.00|                  -1| 0900-0959|  18.00|     0913|    1202| 34.00|      1210|   1236|   26.00|          26.00|    1.00|                 1| 1200-1259|     0.00|            null|    0.00|        370.00|           401.00| 349.00|   1.00| 2475.00|           10|        0.00|        0.00|   26.00|         0.00|             0.00|        null|         null|           null|              null|          null|                null|       null|       null|       null|         null|            null|        null|          null|            null|         null|       null|       null|         null|            null|        null|          null|            null|         null|       null|       null|         null|            null|        null|          null|            null|         null|       null|       null|         null|            null|        null|          null|            null|         null|       null|       null|         null|            null|        null|          null|            null|         null|       null| null|\n",
      "|2005|      1|    1|         3|        1|2005-01-03|           AA|    19805|     AA| N336AA|        1|          12478|           1247801|             31703|   JFK|  New York, NY|         NY|             36|       New York|       22|        12892|         1289201|           32575| LAX|Los Angeles, CA|       CA|           06|   California|     91|      0900|   0901|    1.00|           1.00|    0.00|                   0| 0900-0959|  15.00|     0916|    1226| 12.00|      1210|   1238|   28.00|          28.00|    1.00|                 1| 1200-1259|     0.00|            null|    0.00|        370.00|           397.00| 370.00|   1.00| 2475.00|           10|        0.00|        0.00|   28.00|         0.00|             0.00|        null|         null|           null|              null|          null|                null|       null|       null|       null|         null|            null|        null|          null|            null|         null|       null|       null|         null|            null|        null|          null|            null|         null|       null|       null|         null|            null|        null|          null|            null|         null|       null|       null|         null|            null|        null|          null|            null|         null|       null|       null|         null|            null|        null|          null|            null|         null|       null| null|\n",
      "|2005|      1|    1|         4|        2|2005-01-04|           AA|    19805|     AA| N327AA|        1|          12478|           1247801|             31703|   JFK|  New York, NY|         NY|             36|       New York|       22|        12892|         1289201|           32575| LAX|Los Angeles, CA|       CA|           06|   California|     91|      0900|   0856|   -4.00|           0.00|    0.00|                  -1| 0900-0959|  41.00|     0937|    1227| 39.00|      1210|   1306|   56.00|          56.00|    1.00|                 3| 1200-1259|     0.00|            null|    0.00|        370.00|           430.00| 350.00|   1.00| 2475.00|           10|        0.00|        0.00|   56.00|         0.00|             0.00|        null|         null|           null|              null|          null|                null|       null|       null|       null|         null|            null|        null|          null|            null|         null|       null|       null|         null|            null|        null|          null|            null|         null|       null|       null|         null|            null|        null|          null|            null|         null|       null|       null|         null|            null|        null|          null|            null|         null|       null|       null|         null|            null|        null|          null|            null|         null|       null| null|\n",
      "|2005|      1|    1|         5|        3|2005-01-05|           AA|    19805|     AA| N327AA|        1|          12478|           1247801|             31703|   JFK|  New York, NY|         NY|             36|       New York|       22|        12892|         1289201|           32575| LAX|Los Angeles, CA|       CA|           06|   California|     91|      0900|   0857|   -3.00|           0.00|    0.00|                  -1| 0900-0959|  14.00|     0911|    1146|  8.00|      1210|   1154|  -16.00|           0.00|    0.00|                -2| 1200-1259|     0.00|            null|    0.00|        370.00|           357.00| 335.00|   1.00| 2475.00|           10|        null|        null|    null|         null|             null|        null|         null|           null|              null|          null|                null|       null|       null|       null|         null|            null|        null|          null|            null|         null|       null|       null|         null|            null|        null|          null|            null|         null|       null|       null|         null|            null|        null|          null|            null|         null|       null|       null|         null|            null|        null|          null|            null|         null|       null|       null|         null|            null|        null|          null|            null|         null|       null| null|\n",
      "|2005|      1|    1|         6|        4|2005-01-06|           AA|    19805|     AA| N322AA|        1|          12478|           1247801|             31703|   JFK|  New York, NY|         NY|             36|       New York|       22|        12892|         1289201|           32575| LAX|Los Angeles, CA|       CA|           06|   California|     91|      0900|   0855|   -5.00|           0.00|    0.00|                  -1| 0900-0959|  25.00|     0920|    1156|  8.00|      1210|   1204|   -6.00|           0.00|    0.00|                -1| 1200-1259|     0.00|            null|    0.00|        370.00|           369.00| 336.00|   1.00| 2475.00|           10|        null|        null|    null|         null|             null|        null|         null|           null|              null|          null|                null|       null|       null|       null|         null|            null|        null|          null|            null|         null|       null|       null|         null|            null|        null|          null|            null|         null|       null|       null|         null|            null|        null|          null|            null|         null|       null|       null|         null|            null|        null|          null|            null|         null|       null|       null|         null|            null|        null|          null|            null|         null|       null| null|\n",
      "|2005|      1|    1|         7|        5|2005-01-07|           AA|    19805|     AA| N330AA|        1|          12478|           1247801|             31703|   JFK|  New York, NY|         NY|             36|       New York|       22|        12892|         1289201|           32575| LAX|Los Angeles, CA|       CA|           06|   California|     91|      0900|   0856|   -4.00|           0.00|    0.00|                  -1| 0900-0959|  19.00|     0915|    1235| 10.00|      1210|   1245|   35.00|          35.00|    1.00|                 2| 1200-1259|     0.00|            null|    0.00|        370.00|           409.00| 380.00|   1.00| 2475.00|           10|        0.00|        0.00|   35.00|         0.00|             0.00|        null|         null|           null|              null|          null|                null|       null|       null|       null|         null|            null|        null|          null|            null|         null|       null|       null|         null|            null|        null|          null|            null|         null|       null|       null|         null|            null|        null|          null|            null|         null|       null|       null|         null|            null|        null|          null|            null|         null|       null|       null|         null|            null|        null|          null|            null|         null|       null| null|\n",
      "|2005|      1|    1|         8|        6|2005-01-08|           AA|    19805|     AA| N329AA|        1|          12478|           1247801|             31703|   JFK|  New York, NY|         NY|             36|       New York|       22|        12892|         1289201|           32575| LAX|Los Angeles, CA|       CA|           06|   California|     91|      0900|   0858|   -2.00|           0.00|    0.00|                  -1| 0900-0959|  21.00|     0919|    1218|  9.00|      1210|   1227|   17.00|          17.00|    1.00|                 1| 1200-1259|     0.00|            null|    0.00|        370.00|           389.00| 359.00|   1.00| 2475.00|           10|        0.00|        0.00|   17.00|         0.00|             0.00|        null|         null|           null|              null|          null|                null|       null|       null|       null|         null|            null|        null|          null|            null|         null|       null|       null|         null|            null|        null|          null|            null|         null|       null|       null|         null|            null|        null|          null|            null|         null|       null|       null|         null|            null|        null|          null|            null|         null|       null|       null|         null|            null|        null|          null|            null|         null|       null| null|\n",
      "|2005|      1|    1|         9|        7|2005-01-09|           AA|    19805|     AA| N338AA|        1|          12478|           1247801|             31703|   JFK|  New York, NY|         NY|             36|       New York|       22|        12892|         1289201|           32575| LAX|Los Angeles, CA|       CA|           06|   California|     91|      0900|   0857|   -3.00|           0.00|    0.00|                  -1| 0900-0959|  18.00|     0915|    1223| 45.00|      1210|   1308|   58.00|          58.00|    1.00|                 3| 1200-1259|     0.00|            null|    0.00|        370.00|           431.00| 368.00|   1.00| 2475.00|           10|        0.00|        0.00|   58.00|         0.00|             0.00|        null|         null|           null|              null|          null|                null|       null|       null|       null|         null|            null|        null|          null|            null|         null|       null|       null|         null|            null|        null|          null|            null|         null|       null|       null|         null|            null|        null|          null|            null|         null|       null|       null|         null|            null|        null|          null|            null|         null|       null|       null|         null|            null|        null|          null|            null|         null|       null| null|\n",
      "|2005|      1|    1|        10|        1|2005-01-10|           AA|    19805|     AA| N323AA|        1|          12478|           1247801|             31703|   JFK|  New York, NY|         NY|             36|       New York|       22|        12892|         1289201|           32575| LAX|Los Angeles, CA|       CA|           06|   California|     91|      0900|   0857|   -3.00|           0.00|    0.00|                  -1| 0900-0959|  17.00|     0914|    1210|  7.00|      1210|   1217|    7.00|           7.00|    0.00|                 0| 1200-1259|     0.00|            null|    0.00|        370.00|           380.00| 356.00|   1.00| 2475.00|           10|        null|        null|    null|         null|             null|        null|         null|           null|              null|          null|                null|       null|       null|       null|         null|            null|        null|          null|            null|         null|       null|       null|         null|            null|        null|          null|            null|         null|       null|       null|         null|            null|        null|          null|            null|         null|       null|       null|         null|            null|        null|          null|            null|         null|       null|       null|         null|            null|        null|          null|            null|         null|       null| null|\n",
      "|2005|      1|    1|        11|        2|2005-01-11|           AA|    19805|     AA| N324AA|        1|          12478|           1247801|             31703|   JFK|  New York, NY|         NY|             36|       New York|       22|        12892|         1289201|           32575| LAX|Los Angeles, CA|       CA|           06|   California|     91|      0900|   0855|   -5.00|           0.00|    0.00|                  -1| 0900-0959|  22.00|     0917|    1210|  7.00|      1210|   1217|    7.00|           7.00|    0.00|                 0| 1200-1259|     0.00|            null|    0.00|        370.00|           382.00| 353.00|   1.00| 2475.00|           10|        null|        null|    null|         null|             null|        null|         null|           null|              null|          null|                null|       null|       null|       null|         null|            null|        null|          null|            null|         null|       null|       null|         null|            null|        null|          null|            null|         null|       null|       null|         null|            null|        null|          null|            null|         null|       null|       null|         null|            null|        null|          null|            null|         null|       null|       null|         null|            null|        null|          null|            null|         null|       null| null|\n",
      "|2005|      1|    1|        12|        3|2005-01-12|           AA|    19805|     AA| N324AA|        1|          12478|           1247801|             31703|   JFK|  New York, NY|         NY|             36|       New York|       22|        12892|         1289201|           32575| LAX|Los Angeles, CA|       CA|           06|   California|     91|      0900|   0856|   -4.00|           0.00|    0.00|                  -1| 0900-0959|  17.00|     0913|    1145|  6.00|      1210|   1151|  -19.00|           0.00|    0.00|                -2| 1200-1259|     0.00|            null|    0.00|        370.00|           355.00| 332.00|   1.00| 2475.00|           10|        null|        null|    null|         null|             null|        null|         null|           null|              null|          null|                null|       null|       null|       null|         null|            null|        null|          null|            null|         null|       null|       null|         null|            null|        null|          null|            null|         null|       null|       null|         null|            null|        null|          null|            null|         null|       null|       null|         null|            null|        null|          null|            null|         null|       null|       null|         null|            null|        null|          null|            null|         null|       null| null|\n",
      "|2005|      1|    1|        13|        4|2005-01-13|           AA|    19805|     AA| N335AA|        1|          12478|           1247801|             31703|   JFK|  New York, NY|         NY|             36|       New York|       22|        12892|         1289201|           32575| LAX|Los Angeles, CA|       CA|           06|   California|     91|      0900|   0859|   -1.00|           0.00|    0.00|                  -1| 0900-0959|  52.00|     0951|    1230|  6.00|      1210|   1236|   26.00|          26.00|    1.00|                 1| 1200-1259|     0.00|            null|    0.00|        370.00|           397.00| 339.00|   1.00| 2475.00|           10|        0.00|        0.00|   26.00|         0.00|             0.00|        null|         null|           null|              null|          null|                null|       null|       null|       null|         null|            null|        null|          null|            null|         null|       null|       null|         null|            null|        null|          null|            null|         null|       null|       null|         null|            null|        null|          null|            null|         null|       null|       null|         null|            null|        null|          null|            null|         null|       null|       null|         null|            null|        null|          null|            null|         null|       null| null|\n",
      "|2005|      1|    1|        14|        5|2005-01-14|           AA|    19805|     AA| N319AA|        1|          12478|           1247801|             31703|   JFK|  New York, NY|         NY|             36|       New York|       22|        12892|         1289201|           32575| LAX|Los Angeles, CA|       CA|           06|   California|     91|      0900|   0900|    0.00|           0.00|    0.00|                   0| 0900-0959|  23.00|     0923|    1202| 30.00|      1210|   1232|   22.00|          22.00|    1.00|                 1| 1200-1259|     0.00|            null|    0.00|        370.00|           392.00| 339.00|   1.00| 2475.00|           10|        0.00|        0.00|   22.00|         0.00|             0.00|        null|         null|           null|              null|          null|                null|       null|       null|       null|         null|            null|        null|          null|            null|         null|       null|       null|         null|            null|        null|          null|            null|         null|       null|       null|         null|            null|        null|          null|            null|         null|       null|       null|         null|            null|        null|          null|            null|         null|       null|       null|         null|            null|        null|          null|            null|         null|       null| null|\n",
      "|2005|      1|    1|        15|        6|2005-01-15|           AA|    19805|     AA| N336AA|        1|          12478|           1247801|             31703|   JFK|  New York, NY|         NY|             36|       New York|       22|        12892|         1289201|           32575| LAX|Los Angeles, CA|       CA|           06|   California|     91|      0900|   0906|    6.00|           6.00|    0.00|                   0| 0900-0959|  11.00|     0917|    1152|  8.00|      1210|   1200|  -10.00|           0.00|    0.00|                -1| 1200-1259|     0.00|            null|    0.00|        370.00|           354.00| 335.00|   1.00| 2475.00|           10|        null|        null|    null|         null|             null|        null|         null|           null|              null|          null|                null|       null|       null|       null|         null|            null|        null|          null|            null|         null|       null|       null|         null|            null|        null|          null|            null|         null|       null|       null|         null|            null|        null|          null|            null|         null|       null|       null|         null|            null|        null|          null|            null|         null|       null|       null|         null|            null|        null|          null|            null|         null|       null| null|\n",
      "|2005|      1|    1|        16|        7|2005-01-16|           AA|    19805|     AA| N322AA|        1|          12478|           1247801|             31703|   JFK|  New York, NY|         NY|             36|       New York|       22|        12892|         1289201|           32575| LAX|Los Angeles, CA|       CA|           06|   California|     91|      0900|   0856|   -4.00|           0.00|    0.00|                  -1| 0900-0959|  25.00|     0921|    1201|  5.00|      1210|   1206|   -4.00|           0.00|    0.00|                -1| 1200-1259|     0.00|            null|    0.00|        370.00|           370.00| 340.00|   1.00| 2475.00|           10|        null|        null|    null|         null|             null|        null|         null|           null|              null|          null|                null|       null|       null|       null|         null|            null|        null|          null|            null|         null|       null|       null|         null|            null|        null|          null|            null|         null|       null|       null|         null|            null|        null|          null|            null|         null|       null|       null|         null|            null|        null|          null|            null|         null|       null|       null|         null|            null|        null|          null|            null|         null|       null| null|\n",
      "|2005|      1|    1|        17|        1|2005-01-17|           AA|    19805|     AA| N330AA|        1|          12478|           1247801|             31703|   JFK|  New York, NY|         NY|             36|       New York|       22|        12892|         1289201|           32575| LAX|Los Angeles, CA|       CA|           06|   California|     91|      0900|   0904|    4.00|           4.00|    0.00|                   0| 0900-0959|  68.00|     1012|    1239| 24.00|      1210|   1303|   53.00|          53.00|    1.00|                 3| 1200-1259|     0.00|            null|    0.00|        370.00|           419.00| 327.00|   1.00| 2475.00|           10|        0.00|        0.00|   53.00|         0.00|             0.00|        null|         null|           null|              null|          null|                null|       null|       null|       null|         null|            null|        null|          null|            null|         null|       null|       null|         null|            null|        null|          null|            null|         null|       null|       null|         null|            null|        null|          null|            null|         null|       null|       null|         null|            null|        null|          null|            null|         null|       null|       null|         null|            null|        null|          null|            null|         null|       null| null|\n",
      "|2005|      1|    1|        18|        2|2005-01-18|           AA|    19805|     AA| N328AA|        1|          12478|           1247801|             31703|   JFK|  New York, NY|         NY|             36|       New York|       22|        12892|         1289201|           32575| LAX|Los Angeles, CA|       CA|           06|   California|     91|      0900|   0858|   -2.00|           0.00|    0.00|                  -1| 0900-0959|  16.00|     0914|    1122| 22.00|      1210|   1144|  -26.00|           0.00|    0.00|                -2| 1200-1259|     0.00|            null|    0.00|        370.00|           346.00| 308.00|   1.00| 2475.00|           10|        null|        null|    null|         null|             null|        null|         null|           null|              null|          null|                null|       null|       null|       null|         null|            null|        null|          null|            null|         null|       null|       null|         null|            null|        null|          null|            null|         null|       null|       null|         null|            null|        null|          null|            null|         null|       null|       null|         null|            null|        null|          null|            null|         null|       null|       null|         null|            null|        null|          null|            null|         null|       null| null|\n",
      "|2005|      1|    1|        19|        3|2005-01-19|           AA|    19805|     AA| N320AA|        1|          12478|           1247801|             31703|   JFK|  New York, NY|         NY|             36|       New York|       22|        12892|         1289201|           32575| LAX|Los Angeles, CA|       CA|           06|   California|     91|      0900|   0858|   -2.00|           0.00|    0.00|                  -1| 0900-0959|  13.00|     0911|    1126| 11.00|      1210|   1137|  -33.00|           0.00|    0.00|                -2| 1200-1259|     0.00|            null|    0.00|        370.00|           339.00| 315.00|   1.00| 2475.00|           10|        null|        null|    null|         null|             null|        null|         null|           null|              null|          null|                null|       null|       null|       null|         null|            null|        null|          null|            null|         null|       null|       null|         null|            null|        null|          null|            null|         null|       null|       null|         null|            null|        null|          null|            null|         null|       null|       null|         null|            null|        null|          null|            null|         null|       null|       null|         null|            null|        null|          null|            null|         null|       null| null|\n",
      "|2005|      1|    1|        20|        4|2005-01-20|           AA|    19805|     AA| N325AA|        1|          12478|           1247801|             31703|   JFK|  New York, NY|         NY|             36|       New York|       22|        12892|         1289201|           32575| LAX|Los Angeles, CA|       CA|           06|   California|     91|      0900|   0906|    6.00|           6.00|    0.00|                   0| 0900-0959|  19.00|     0925|    1148| 20.00|      1210|   1208|   -2.00|           0.00|    0.00|                -1| 1200-1259|     0.00|            null|    0.00|        370.00|           362.00| 323.00|   1.00| 2475.00|           10|        null|        null|    null|         null|             null|        null|         null|           null|              null|          null|                null|       null|       null|       null|         null|            null|        null|          null|            null|         null|       null|       null|         null|            null|        null|          null|            null|         null|       null|       null|         null|            null|        null|          null|            null|         null|       null|       null|         null|            null|        null|          null|            null|         null|       null|       null|         null|            null|        null|          null|            null|         null|       null| null|\n",
      "+----+-------+-----+----------+---------+----------+-------------+---------+-------+-------+---------+---------------+------------------+------------------+------+--------------+-----------+---------------+---------------+---------+-------------+----------------+----------------+----+---------------+---------+-------------+-------------+-------+----------+-------+--------+---------------+--------+--------------------+----------+-------+---------+--------+------+----------+-------+--------+---------------+--------+------------------+----------+---------+----------------+--------+--------------+-----------------+-------+-------+--------+-------------+------------+------------+--------+-------------+-----------------+------------+-------------+---------------+------------------+--------------+--------------------+-----------+-----------+-----------+-------------+----------------+------------+--------------+----------------+-------------+-----------+-----------+-------------+----------------+------------+--------------+----------------+-------------+-----------+-----------+-------------+----------------+------------+--------------+----------------+-------------+-----------+-----------+-------------+----------------+------------+--------------+----------------+-------------+-----------+-----------+-------------+----------------+------------+--------------+----------------+-------------+-----------+-----+\n",
      "only showing top 20 rows\n",
      "\n"
     ]
    }
   ],
   "source": [
    "df.show()"
   ]
  },
  {
   "cell_type": "markdown",
   "id": "1d9ae41a",
   "metadata": {},
   "source": [
    "<h1> Data Preparation </h1>"
   ]
  },
  {
   "cell_type": "code",
   "execution_count": 7,
   "id": "83f1cf64",
   "metadata": {},
   "outputs": [],
   "source": [
    "#create new dataframe as per required columns for prediction \n",
    "AirlineDF = df.select(\"Origin\",\"Dest\",\"AirTime\",\"Distance\")"
   ]
  },
  {
   "cell_type": "code",
   "execution_count": 8,
   "id": "8a12948e",
   "metadata": {},
   "outputs": [
    {
     "data": {
      "text/plain": [
       "DataFrame[Origin: string, Dest: string, AirTime: string, Distance: string]"
      ]
     },
     "execution_count": 8,
     "metadata": {},
     "output_type": "execute_result"
    }
   ],
   "source": [
    "#cache data in-memory for fast read write operation \n",
    "AirlineDF.cache()"
   ]
  },
  {
   "cell_type": "code",
   "execution_count": 9,
   "id": "cfe15911",
   "metadata": {
    "scrolled": true
   },
   "outputs": [
    {
     "name": "stdout",
     "output_type": "stream",
     "text": [
      "+------+----+-------+--------+\n",
      "|Origin|Dest|AirTime|Distance|\n",
      "+------+----+-------+--------+\n",
      "|   JFK| LAX| 338.00| 2475.00|\n",
      "|   JFK| LAX| 349.00| 2475.00|\n",
      "|   JFK| LAX| 370.00| 2475.00|\n",
      "|   JFK| LAX| 350.00| 2475.00|\n",
      "|   JFK| LAX| 335.00| 2475.00|\n",
      "|   JFK| LAX| 336.00| 2475.00|\n",
      "|   JFK| LAX| 380.00| 2475.00|\n",
      "|   JFK| LAX| 359.00| 2475.00|\n",
      "|   JFK| LAX| 368.00| 2475.00|\n",
      "|   JFK| LAX| 356.00| 2475.00|\n",
      "|   JFK| LAX| 353.00| 2475.00|\n",
      "|   JFK| LAX| 332.00| 2475.00|\n",
      "|   JFK| LAX| 339.00| 2475.00|\n",
      "|   JFK| LAX| 339.00| 2475.00|\n",
      "|   JFK| LAX| 335.00| 2475.00|\n",
      "|   JFK| LAX| 340.00| 2475.00|\n",
      "|   JFK| LAX| 327.00| 2475.00|\n",
      "|   JFK| LAX| 308.00| 2475.00|\n",
      "|   JFK| LAX| 315.00| 2475.00|\n",
      "|   JFK| LAX| 323.00| 2475.00|\n",
      "+------+----+-------+--------+\n",
      "only showing top 20 rows\n",
      "\n"
     ]
    }
   ],
   "source": [
    "#check data in new dataframe \n",
    "AirlineDF.show()"
   ]
  },
  {
   "cell_type": "code",
   "execution_count": 10,
   "id": "8bb38ee4",
   "metadata": {},
   "outputs": [
    {
     "name": "stdout",
     "output_type": "stream",
     "text": [
      "root\n",
      " |-- Origin: string (nullable = true)\n",
      " |-- Dest: string (nullable = true)\n",
      " |-- AirTime: string (nullable = true)\n",
      " |-- Distance: string (nullable = true)\n",
      "\n"
     ]
    }
   ],
   "source": [
    "#check data types of each columns\n",
    "AirlineDF.printSchema()"
   ]
  },
  {
   "cell_type": "markdown",
   "id": "4ea852ac",
   "metadata": {},
   "source": [
    "<h1> We need to change data types of columns </h1>"
   ]
  },
  {
   "cell_type": "code",
   "execution_count": 11,
   "id": "7fd3dff1",
   "metadata": {},
   "outputs": [],
   "source": [
    "from pyspark.sql.types import IntegerType"
   ]
  },
  {
   "cell_type": "code",
   "execution_count": 12,
   "id": "cec23c17",
   "metadata": {},
   "outputs": [],
   "source": [
    "AirlineDF = AirlineDF.withColumn('Distance', AirlineDF[\"Distance\"].cast(IntegerType()))"
   ]
  },
  {
   "cell_type": "code",
   "execution_count": 13,
   "id": "c58a0399",
   "metadata": {},
   "outputs": [],
   "source": [
    "AirlineDF = AirlineDF.withColumn('AirTime', AirlineDF[\"AirTime\"].cast(IntegerType()))"
   ]
  },
  {
   "cell_type": "code",
   "execution_count": 14,
   "id": "4879fd36",
   "metadata": {},
   "outputs": [
    {
     "name": "stdout",
     "output_type": "stream",
     "text": [
      "root\n",
      " |-- Origin: string (nullable = true)\n",
      " |-- Dest: string (nullable = true)\n",
      " |-- AirTime: integer (nullable = true)\n",
      " |-- Distance: integer (nullable = true)\n",
      "\n"
     ]
    }
   ],
   "source": [
    "AirlineDF.printSchema()"
   ]
  },
  {
   "cell_type": "markdown",
   "id": "e693a47e",
   "metadata": {},
   "source": [
    "<h1> Check is there any null values in DataFrame </h1>"
   ]
  },
  {
   "cell_type": "code",
   "execution_count": 16,
   "id": "b4b7015d",
   "metadata": {},
   "outputs": [],
   "source": [
    "#import library for sql function col\n",
    "from pyspark.sql.functions import col"
   ]
  },
  {
   "cell_type": "code",
   "execution_count": 17,
   "id": "57d6fe82",
   "metadata": {},
   "outputs": [
    {
     "name": "stdout",
     "output_type": "stream",
     "text": [
      "0\n",
      "0\n",
      "0\n",
      "0\n"
     ]
    }
   ],
   "source": [
    "#check null values in each columns\n",
    "print(AirlineDF.where(col(\"Origin\").isNull()).count())\n",
    "print(AirlineDF.where(col(\"Dest\").isNull()).count())\n",
    "print(AirlineDF.where(col(\"AirTime\").isNull()).count())\n",
    "print(AirlineDF.where(col(\"Distance\").isNull()).count())"
   ]
  },
  {
   "cell_type": "markdown",
   "id": "b0868427",
   "metadata": {},
   "source": [
    "<h1> we need convert distance miles into km </h1>"
   ]
  },
  {
   "cell_type": "code",
   "execution_count": 20,
   "id": "5f7b7d57",
   "metadata": {},
   "outputs": [
    {
     "name": "stdout",
     "output_type": "stream",
     "text": [
      "+------+----+-------+--------+\n",
      "|Origin|Dest|AirTime|Distance|\n",
      "+------+----+-------+--------+\n",
      "|   JFK| LAX|    338|  3983.0|\n",
      "|   JFK| LAX|    349|  3983.0|\n",
      "|   JFK| LAX|    370|  3983.0|\n",
      "|   JFK| LAX|    350|  3983.0|\n",
      "|   JFK| LAX|    335|  3983.0|\n",
      "|   JFK| LAX|    336|  3983.0|\n",
      "|   JFK| LAX|    380|  3983.0|\n",
      "|   JFK| LAX|    359|  3983.0|\n",
      "|   JFK| LAX|    368|  3983.0|\n",
      "|   JFK| LAX|    356|  3983.0|\n",
      "|   JFK| LAX|    353|  3983.0|\n",
      "|   JFK| LAX|    332|  3983.0|\n",
      "|   JFK| LAX|    339|  3983.0|\n",
      "|   JFK| LAX|    339|  3983.0|\n",
      "|   JFK| LAX|    335|  3983.0|\n",
      "|   JFK| LAX|    340|  3983.0|\n",
      "|   JFK| LAX|    327|  3983.0|\n",
      "|   JFK| LAX|    308|  3983.0|\n",
      "|   JFK| LAX|    315|  3983.0|\n",
      "|   JFK| LAX|    323|  3983.0|\n",
      "+------+----+-------+--------+\n",
      "only showing top 20 rows\n",
      "\n"
     ]
    }
   ],
   "source": [
    "from pyspark.sql.functions import round\n",
    "\n",
    "#Convert 'mile' to 'km'\n",
    "AirlineDF = AirlineDF.withColumn('Distance', round(AirlineDF.Distance * 1.60934, 0))\n",
    "AirlineDF.show()"
   ]
  },
  {
   "cell_type": "code",
   "execution_count": 21,
   "id": "a33c59d3",
   "metadata": {},
   "outputs": [
    {
     "name": "stdout",
     "output_type": "stream",
     "text": [
      "root\n",
      " |-- Origin: string (nullable = true)\n",
      " |-- Dest: string (nullable = true)\n",
      " |-- AirTime: integer (nullable = true)\n",
      " |-- Distance: double (nullable = true)\n",
      "\n"
     ]
    }
   ],
   "source": [
    "AirlineDF.printSchema()"
   ]
  },
  {
   "cell_type": "markdown",
   "id": "2d4194f3",
   "metadata": {},
   "source": [
    "<h1>Vectorize the features </h1>"
   ]
  },
  {
   "cell_type": "code",
   "execution_count": 18,
   "id": "60820049",
   "metadata": {},
   "outputs": [],
   "source": [
    "from pyspark.ml.feature import *"
   ]
  },
  {
   "cell_type": "code",
   "execution_count": 19,
   "id": "587dfb32",
   "metadata": {},
   "outputs": [],
   "source": [
    "from pyspark.ml.feature import VectorAssembler"
   ]
  },
  {
   "cell_type": "code",
   "execution_count": 22,
   "id": "6083e913",
   "metadata": {},
   "outputs": [],
   "source": [
    "vectorizer = VectorAssembler()\n",
    "vectorizer.setInputCols([\"Distance\"])\n",
    "vectorizer.setOutputCol(\"features\")\n",
    "\n",
    "df_vect = vectorizer.transform(AirlineDF)\n"
   ]
  },
  {
   "cell_type": "code",
   "execution_count": 23,
   "id": "930788da",
   "metadata": {},
   "outputs": [
    {
     "name": "stdout",
     "output_type": "stream",
     "text": [
      "+------+----+-------+--------+--------+\n",
      "|Origin|Dest|AirTime|Distance|features|\n",
      "+------+----+-------+--------+--------+\n",
      "|   JFK| LAX|    338|  3983.0|[3983.0]|\n",
      "|   JFK| LAX|    349|  3983.0|[3983.0]|\n",
      "|   JFK| LAX|    370|  3983.0|[3983.0]|\n",
      "|   JFK| LAX|    350|  3983.0|[3983.0]|\n",
      "|   JFK| LAX|    335|  3983.0|[3983.0]|\n",
      "|   JFK| LAX|    336|  3983.0|[3983.0]|\n",
      "|   JFK| LAX|    380|  3983.0|[3983.0]|\n",
      "|   JFK| LAX|    359|  3983.0|[3983.0]|\n",
      "|   JFK| LAX|    368|  3983.0|[3983.0]|\n",
      "|   JFK| LAX|    356|  3983.0|[3983.0]|\n",
      "|   JFK| LAX|    353|  3983.0|[3983.0]|\n",
      "|   JFK| LAX|    332|  3983.0|[3983.0]|\n",
      "|   JFK| LAX|    339|  3983.0|[3983.0]|\n",
      "|   JFK| LAX|    339|  3983.0|[3983.0]|\n",
      "|   JFK| LAX|    335|  3983.0|[3983.0]|\n",
      "|   JFK| LAX|    340|  3983.0|[3983.0]|\n",
      "|   JFK| LAX|    327|  3983.0|[3983.0]|\n",
      "|   JFK| LAX|    308|  3983.0|[3983.0]|\n",
      "|   JFK| LAX|    315|  3983.0|[3983.0]|\n",
      "|   JFK| LAX|    323|  3983.0|[3983.0]|\n",
      "+------+----+-------+--------+--------+\n",
      "only showing top 20 rows\n",
      "\n"
     ]
    }
   ],
   "source": [
    "df_vect.show()"
   ]
  },
  {
   "cell_type": "code",
   "execution_count": 24,
   "id": "1dc71af2",
   "metadata": {},
   "outputs": [
    {
     "name": "stdout",
     "output_type": "stream",
     "text": [
      "handleInvalid: How to handle invalid data (NULL and NaN values). Options are 'skip' (filter out rows with invalid data), 'error' (throw an error), or 'keep' (return relevant number of NaN in the output). Column lengths are taken from the size of ML Attribute Group, which can be set using `VectorSizeHint` in a pipeline before `VectorAssembler`. Column lengths can also be inferred from first rows of the data since it is safe to do so but only in case of 'error' or 'skip'). (default: error)\n",
      "inputCols: input column names. (current: ['Distance'])\n",
      "outputCol: output column name. (default: VectorAssembler_ec76019d59e1__output, current: features)\n"
     ]
    }
   ],
   "source": [
    "print(vectorizer.explainParams())"
   ]
  },
  {
   "cell_type": "markdown",
   "id": "6f7b6f96",
   "metadata": {},
   "source": [
    "<h1> Train test data Splitting </h1>"
   ]
  },
  {
   "cell_type": "code",
   "execution_count": 25,
   "id": "6d7cae56",
   "metadata": {},
   "outputs": [],
   "source": [
    "flights_train, flights_test = df_vect.randomSplit([0.8, 0.2])"
   ]
  },
  {
   "cell_type": "code",
   "execution_count": 26,
   "id": "fc98831b",
   "metadata": {},
   "outputs": [
    {
     "name": "stdout",
     "output_type": "stream",
     "text": [
      "+------+----+-------+--------+--------+\n",
      "|Origin|Dest|AirTime|Distance|features|\n",
      "+------+----+-------+--------+--------+\n",
      "|   ABE| CLT|     70|   774.0| [774.0]|\n",
      "|   ABE| CLT|     72|   774.0| [774.0]|\n",
      "|   ABE| CLT|     74|   774.0| [774.0]|\n",
      "|   ABE| CLT|     77|   774.0| [774.0]|\n",
      "|   ABE| CLT|     77|   774.0| [774.0]|\n",
      "|   ABE| CLT|     77|   774.0| [774.0]|\n",
      "|   ABE| CLT|     77|   774.0| [774.0]|\n",
      "|   ABE| CLT|     78|   774.0| [774.0]|\n",
      "|   ABE| CLT|     79|   774.0| [774.0]|\n",
      "|   ABE| CLT|     79|   774.0| [774.0]|\n",
      "|   ABE| CLT|     82|   774.0| [774.0]|\n",
      "|   ABE| CLT|     82|   774.0| [774.0]|\n",
      "|   ABE| CLT|     83|   774.0| [774.0]|\n",
      "|   ABE| CLT|     83|   774.0| [774.0]|\n",
      "|   ABE| CLT|     84|   774.0| [774.0]|\n",
      "|   ABE| CLT|     84|   774.0| [774.0]|\n",
      "|   ABE| CLT|     84|   774.0| [774.0]|\n",
      "|   ABE| CLT|     84|   774.0| [774.0]|\n",
      "|   ABE| CLT|     86|   774.0| [774.0]|\n",
      "|   ABE| CLT|     87|   774.0| [774.0]|\n",
      "+------+----+-------+--------+--------+\n",
      "only showing top 20 rows\n",
      "\n"
     ]
    }
   ],
   "source": [
    "flights_train.show()"
   ]
  },
  {
   "cell_type": "markdown",
   "id": "5aebae06",
   "metadata": {},
   "source": [
    "<h1> RandomForest Regression Model Training </h1>"
   ]
  },
  {
   "cell_type": "code",
   "execution_count": 27,
   "id": "401ed9a1",
   "metadata": {},
   "outputs": [],
   "source": [
    "from pyspark.ml.regression import RandomForestRegressor "
   ]
  },
  {
   "cell_type": "code",
   "execution_count": 28,
   "id": "dd85551f",
   "metadata": {},
   "outputs": [
    {
     "name": "stdout",
     "output_type": "stream",
     "text": [
      "bootstrap: Whether bootstrap samples are used when building trees. (default: True)\n",
      "cacheNodeIds: If false, the algorithm will pass trees to executors to match instances with nodes. If true, the algorithm will cache node IDs for each instance. Caching can speed up training of deeper trees. Users can set how often should the cache be checkpointed or disable it by setting checkpointInterval. (default: False)\n",
      "checkpointInterval: set checkpoint interval (>= 1) or disable checkpoint (-1). E.g. 10 means that the cache will get checkpointed every 10 iterations. Note: this setting will be ignored if the checkpoint directory is not set in the SparkContext. (default: 10)\n",
      "featureSubsetStrategy: The number of features to consider for splits at each tree node. Supported options: 'auto' (choose automatically for task: If numTrees == 1, set to 'all'. If numTrees > 1 (forest), set to 'sqrt' for classification and to 'onethird' for regression), 'all' (use all features), 'onethird' (use 1/3 of the features), 'sqrt' (use sqrt(number of features)), 'log2' (use log2(number of features)), 'n' (when n is in the range (0, 1.0], use n * number of features. When n is in the range (1, number of features), use n features). default = 'auto' (default: auto)\n",
      "featuresCol: features column name. (default: features, current: features)\n",
      "impurity: Criterion used for information gain calculation (case-insensitive). Supported options: variance (default: variance)\n",
      "labelCol: label column name. (default: label)\n",
      "leafCol: Leaf indices column name. Predicted leaf index of each instance in each tree by preorder. (default: )\n",
      "maxBins: Max number of bins for discretizing continuous features.  Must be >=2 and >= number of categories for any categorical feature. (default: 32)\n",
      "maxDepth: Maximum depth of the tree. (>= 0) E.g., depth 0 means 1 leaf node; depth 1 means 1 internal node + 2 leaf nodes. Must be in range [0, 30]. (default: 5)\n",
      "maxMemoryInMB: Maximum memory in MB allocated to histogram aggregation. If too small, then 1 node will be split per iteration, and its aggregates may exceed this size. (default: 256)\n",
      "minInfoGain: Minimum information gain for a split to be considered at a tree node. (default: 0.0)\n",
      "minInstancesPerNode: Minimum number of instances each child must have after split. If a split causes the left or right child to have fewer than minInstancesPerNode, the split will be discarded as invalid. Should be >= 1. (default: 1)\n",
      "minWeightFractionPerNode: Minimum fraction of the weighted sample count that each child must have after split. If a split causes the fraction of the total weight in the left or right child to be less than minWeightFractionPerNode, the split will be discarded as invalid. Should be in interval [0.0, 0.5). (default: 0.0)\n",
      "numTrees: Number of trees to train (>= 1). (default: 20)\n",
      "predictionCol: prediction column name. (default: prediction)\n",
      "seed: random seed. (default: -8141827995390124339)\n",
      "subsamplingRate: Fraction of the training data used for learning each decision tree, in range (0, 1]. (default: 1.0)\n",
      "weightCol: weight column name. If this is not set or empty, we treat all instance weights as 1.0. (undefined)\n"
     ]
    }
   ],
   "source": [
    "#Train RandomForest model/\n",
    "rf = RandomForestRegressor(featuresCol = \"features\")\n",
    "print(rf.explainParams())"
   ]
  },
  {
   "cell_type": "code",
   "execution_count": 30,
   "id": "c3d19a60",
   "metadata": {},
   "outputs": [],
   "source": [
    "rf.setLabelCol(\"AirTime\")\n",
    "rf.setFeaturesCol(\"features\")\n",
    "model = rf.fit(flights_train)"
   ]
  },
  {
   "cell_type": "code",
   "execution_count": 31,
   "id": "d8ca0e4c",
   "metadata": {},
   "outputs": [
    {
     "data": {
      "text/plain": [
       "pyspark.ml.regression.RandomForestRegressionModel"
      ]
     },
     "execution_count": 31,
     "metadata": {},
     "output_type": "execute_result"
    }
   ],
   "source": [
    "type(model)"
   ]
  },
  {
   "cell_type": "markdown",
   "id": "cc6a2d4a",
   "metadata": {},
   "source": [
    "<h1> Model Testing </h1>"
   ]
  },
  {
   "cell_type": "code",
   "execution_count": 33,
   "id": "dea32715",
   "metadata": {},
   "outputs": [
    {
     "name": "stdout",
     "output_type": "stream",
     "text": [
      "+------+----+-------+--------+--------+------------------+\n",
      "|Origin|Dest|AirTime|Distance|features|        prediction|\n",
      "+------+----+-------+--------+--------+------------------+\n",
      "|   ABE| CLT|     76|   774.0| [774.0]| 75.62403710690569|\n",
      "|   ABE| CLT|     87|   774.0| [774.0]| 75.62403710690569|\n",
      "|   ABE| CLT|     87|   774.0| [774.0]| 75.62403710690569|\n",
      "|   ABE| CLT|     90|   774.0| [774.0]| 75.62403710690569|\n",
      "|   ABE| CLT|     94|   774.0| [774.0]| 75.62403710690569|\n",
      "|   ABE| CLT|    101|   774.0| [774.0]| 75.62403710690569|\n",
      "|   ABE| CLT|    128|   774.0| [774.0]| 75.62403710690569|\n",
      "|   ABE| PHL|     19|    89.0|  [89.0]|48.930012408988766|\n",
      "|   ABE| PHL|     19|    89.0|  [89.0]|48.930012408988766|\n",
      "|   ABE| PHL|     21|    89.0|  [89.0]|48.930012408988766|\n",
      "|   ABE| PHL|     23|    89.0|  [89.0]|48.930012408988766|\n",
      "|   ABE| PHL|     24|    89.0|  [89.0]|48.930012408988766|\n",
      "|   ABE| PHL|     24|    89.0|  [89.0]|48.930012408988766|\n",
      "|   ABE| PHL|     25|    89.0|  [89.0]|48.930012408988766|\n",
      "|   ABQ| AMA|     36|   446.0| [446.0]| 49.51427906580835|\n",
      "|   ABQ| AMA|     36|   446.0| [446.0]| 49.51427906580835|\n",
      "|   ABQ| AMA|     40|   446.0| [446.0]| 49.51427906580835|\n",
      "|   ABQ| AMA|     40|   446.0| [446.0]| 49.51427906580835|\n",
      "|   ABQ| AMA|     40|   446.0| [446.0]| 49.51427906580835|\n",
      "|   ABQ| AMA|     42|   446.0| [446.0]| 49.51427906580835|\n",
      "+------+----+-------+--------+--------+------------------+\n",
      "only showing top 20 rows\n",
      "\n"
     ]
    }
   ],
   "source": [
    "df_pred = model.transform(flights_test)\n",
    "df_pred.show()"
   ]
  },
  {
   "cell_type": "markdown",
   "id": "68007cf7",
   "metadata": {},
   "source": [
    "<h1> View model summary </h1>"
   ]
  },
  {
   "cell_type": "code",
   "execution_count": 34,
   "id": "afcbc24f",
   "metadata": {},
   "outputs": [],
   "source": [
    "from pyspark.ml.evaluation import RegressionEvaluator"
   ]
  },
  {
   "cell_type": "code",
   "execution_count": 36,
   "id": "3444e985",
   "metadata": {},
   "outputs": [
    {
     "name": "stdout",
     "output_type": "stream",
     "text": [
      "Root mean Squarred Error (RMSE) on test data = 18.7878\n"
     ]
    }
   ],
   "source": [
    "evaluator = RegressionEvaluator(labelCol = \"AirTime\", predictionCol=\"prediction\", metricName = \"rmse\")\n",
    "rmse = evaluator.evaluate(df_pred)\n",
    "print(\"Root mean Squarred Error (RMSE) on test data = %g\" % rmse)"
   ]
  },
  {
   "cell_type": "code",
   "execution_count": null,
   "id": "12b902d2",
   "metadata": {},
   "outputs": [],
   "source": []
  }
 ],
 "metadata": {
  "kernelspec": {
   "display_name": "Python 3 (ipykernel)",
   "language": "python",
   "name": "python3"
  },
  "language_info": {
   "codemirror_mode": {
    "name": "ipython",
    "version": 3
   },
   "file_extension": ".py",
   "mimetype": "text/x-python",
   "name": "python",
   "nbconvert_exporter": "python",
   "pygments_lexer": "ipython3",
   "version": "3.9.7"
  }
 },
 "nbformat": 4,
 "nbformat_minor": 5
}
